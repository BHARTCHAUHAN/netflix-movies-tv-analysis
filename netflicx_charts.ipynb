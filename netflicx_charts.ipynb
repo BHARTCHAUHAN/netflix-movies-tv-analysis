{
 "cells": [
  {
   "cell_type": "code",
   "execution_count": 9,
   "id": "9e39cd96-2708-40fc-99ea-85b7a525a889",
   "metadata": {},
   "outputs": [],
   "source": [
    "import plotly.express as px"
   ]
  },
  {
   "cell_type": "code",
   "execution_count": 10,
   "id": "7488f845-4405-4e6a-a530-3f7202de5c8f",
   "metadata": {},
   "outputs": [],
   "source": [
    "import pandas as pd"
   ]
  },
  {
   "cell_type": "code",
   "execution_count": 11,
   "id": "ef9ce93c-77e2-43f8-add5-7113adec1566",
   "metadata": {},
   "outputs": [],
   "source": [
    "import matplotlib.pyplot as plt"
   ]
  },
  {
   "cell_type": "code",
   "execution_count": 12,
   "id": "a5d8a0c5-cd2c-4123-aef8-b09de1064b08",
   "metadata": {},
   "outputs": [],
   "source": [
    "import seaborn as sns"
   ]
  },
  {
   "cell_type": "code",
   "execution_count": 14,
   "id": "29765ca0-dd08-46ab-8fbf-d6b7b3c7c417",
   "metadata": {},
   "outputs": [],
   "source": [
    "df = pd.read_csv(\"cleaned_netflix_data.csv\")"
   ]
  },
  {
   "cell_type": "code",
   "execution_count": 15,
   "id": "52ccf893-c0f9-4825-adaa-1ccda45edaec",
   "metadata": {},
   "outputs": [
    {
     "data": {
      "application/vnd.plotly.v1+json": {
       "config": {
        "plotlyServerURL": "https://plot.ly"
       },
       "data": [
        {
         "alignmentgroup": "True",
         "hovertemplate": "director=%{x}<br>y=%{y}<extra></extra>",
         "legendgroup": "",
         "marker": {
          "color": "#636efa",
          "pattern": {
           "shape": ""
          }
         },
         "name": "",
         "offsetgroup": "",
         "orientation": "v",
         "showlegend": false,
         "textposition": "auto",
         "type": "bar",
         "x": [
          "unknow",
          "Rajiv Chilaka",
          "Raúl Campos, Jan Suter",
          "Suhas Kadav",
          "Marcus Raboy",
          "Jay Karas",
          "Cathy Garcia-Molina",
          "Martin Scorsese",
          "Youssef Chahine",
          "Jay Chapman"
         ],
         "xaxis": "x",
         "y": [
          2634,
          19,
          18,
          16,
          16,
          14,
          13,
          12,
          12,
          12
         ],
         "yaxis": "y"
        }
       ],
       "layout": {
        "barmode": "relative",
        "legend": {
         "tracegroupgap": 0
        },
        "template": {
         "data": {
          "bar": [
           {
            "error_x": {
             "color": "#2a3f5f"
            },
            "error_y": {
             "color": "#2a3f5f"
            },
            "marker": {
             "line": {
              "color": "#E5ECF6",
              "width": 0.5
             },
             "pattern": {
              "fillmode": "overlay",
              "size": 10,
              "solidity": 0.2
             }
            },
            "type": "bar"
           }
          ],
          "barpolar": [
           {
            "marker": {
             "line": {
              "color": "#E5ECF6",
              "width": 0.5
             },
             "pattern": {
              "fillmode": "overlay",
              "size": 10,
              "solidity": 0.2
             }
            },
            "type": "barpolar"
           }
          ],
          "carpet": [
           {
            "aaxis": {
             "endlinecolor": "#2a3f5f",
             "gridcolor": "white",
             "linecolor": "white",
             "minorgridcolor": "white",
             "startlinecolor": "#2a3f5f"
            },
            "baxis": {
             "endlinecolor": "#2a3f5f",
             "gridcolor": "white",
             "linecolor": "white",
             "minorgridcolor": "white",
             "startlinecolor": "#2a3f5f"
            },
            "type": "carpet"
           }
          ],
          "choropleth": [
           {
            "colorbar": {
             "outlinewidth": 0,
             "ticks": ""
            },
            "type": "choropleth"
           }
          ],
          "contour": [
           {
            "colorbar": {
             "outlinewidth": 0,
             "ticks": ""
            },
            "colorscale": [
             [
              0,
              "#0d0887"
             ],
             [
              0.1111111111111111,
              "#46039f"
             ],
             [
              0.2222222222222222,
              "#7201a8"
             ],
             [
              0.3333333333333333,
              "#9c179e"
             ],
             [
              0.4444444444444444,
              "#bd3786"
             ],
             [
              0.5555555555555556,
              "#d8576b"
             ],
             [
              0.6666666666666666,
              "#ed7953"
             ],
             [
              0.7777777777777778,
              "#fb9f3a"
             ],
             [
              0.8888888888888888,
              "#fdca26"
             ],
             [
              1,
              "#f0f921"
             ]
            ],
            "type": "contour"
           }
          ],
          "contourcarpet": [
           {
            "colorbar": {
             "outlinewidth": 0,
             "ticks": ""
            },
            "type": "contourcarpet"
           }
          ],
          "heatmap": [
           {
            "colorbar": {
             "outlinewidth": 0,
             "ticks": ""
            },
            "colorscale": [
             [
              0,
              "#0d0887"
             ],
             [
              0.1111111111111111,
              "#46039f"
             ],
             [
              0.2222222222222222,
              "#7201a8"
             ],
             [
              0.3333333333333333,
              "#9c179e"
             ],
             [
              0.4444444444444444,
              "#bd3786"
             ],
             [
              0.5555555555555556,
              "#d8576b"
             ],
             [
              0.6666666666666666,
              "#ed7953"
             ],
             [
              0.7777777777777778,
              "#fb9f3a"
             ],
             [
              0.8888888888888888,
              "#fdca26"
             ],
             [
              1,
              "#f0f921"
             ]
            ],
            "type": "heatmap"
           }
          ],
          "heatmapgl": [
           {
            "colorbar": {
             "outlinewidth": 0,
             "ticks": ""
            },
            "colorscale": [
             [
              0,
              "#0d0887"
             ],
             [
              0.1111111111111111,
              "#46039f"
             ],
             [
              0.2222222222222222,
              "#7201a8"
             ],
             [
              0.3333333333333333,
              "#9c179e"
             ],
             [
              0.4444444444444444,
              "#bd3786"
             ],
             [
              0.5555555555555556,
              "#d8576b"
             ],
             [
              0.6666666666666666,
              "#ed7953"
             ],
             [
              0.7777777777777778,
              "#fb9f3a"
             ],
             [
              0.8888888888888888,
              "#fdca26"
             ],
             [
              1,
              "#f0f921"
             ]
            ],
            "type": "heatmapgl"
           }
          ],
          "histogram": [
           {
            "marker": {
             "pattern": {
              "fillmode": "overlay",
              "size": 10,
              "solidity": 0.2
             }
            },
            "type": "histogram"
           }
          ],
          "histogram2d": [
           {
            "colorbar": {
             "outlinewidth": 0,
             "ticks": ""
            },
            "colorscale": [
             [
              0,
              "#0d0887"
             ],
             [
              0.1111111111111111,
              "#46039f"
             ],
             [
              0.2222222222222222,
              "#7201a8"
             ],
             [
              0.3333333333333333,
              "#9c179e"
             ],
             [
              0.4444444444444444,
              "#bd3786"
             ],
             [
              0.5555555555555556,
              "#d8576b"
             ],
             [
              0.6666666666666666,
              "#ed7953"
             ],
             [
              0.7777777777777778,
              "#fb9f3a"
             ],
             [
              0.8888888888888888,
              "#fdca26"
             ],
             [
              1,
              "#f0f921"
             ]
            ],
            "type": "histogram2d"
           }
          ],
          "histogram2dcontour": [
           {
            "colorbar": {
             "outlinewidth": 0,
             "ticks": ""
            },
            "colorscale": [
             [
              0,
              "#0d0887"
             ],
             [
              0.1111111111111111,
              "#46039f"
             ],
             [
              0.2222222222222222,
              "#7201a8"
             ],
             [
              0.3333333333333333,
              "#9c179e"
             ],
             [
              0.4444444444444444,
              "#bd3786"
             ],
             [
              0.5555555555555556,
              "#d8576b"
             ],
             [
              0.6666666666666666,
              "#ed7953"
             ],
             [
              0.7777777777777778,
              "#fb9f3a"
             ],
             [
              0.8888888888888888,
              "#fdca26"
             ],
             [
              1,
              "#f0f921"
             ]
            ],
            "type": "histogram2dcontour"
           }
          ],
          "mesh3d": [
           {
            "colorbar": {
             "outlinewidth": 0,
             "ticks": ""
            },
            "type": "mesh3d"
           }
          ],
          "parcoords": [
           {
            "line": {
             "colorbar": {
              "outlinewidth": 0,
              "ticks": ""
             }
            },
            "type": "parcoords"
           }
          ],
          "pie": [
           {
            "automargin": true,
            "type": "pie"
           }
          ],
          "scatter": [
           {
            "fillpattern": {
             "fillmode": "overlay",
             "size": 10,
             "solidity": 0.2
            },
            "type": "scatter"
           }
          ],
          "scatter3d": [
           {
            "line": {
             "colorbar": {
              "outlinewidth": 0,
              "ticks": ""
             }
            },
            "marker": {
             "colorbar": {
              "outlinewidth": 0,
              "ticks": ""
             }
            },
            "type": "scatter3d"
           }
          ],
          "scattercarpet": [
           {
            "marker": {
             "colorbar": {
              "outlinewidth": 0,
              "ticks": ""
             }
            },
            "type": "scattercarpet"
           }
          ],
          "scattergeo": [
           {
            "marker": {
             "colorbar": {
              "outlinewidth": 0,
              "ticks": ""
             }
            },
            "type": "scattergeo"
           }
          ],
          "scattergl": [
           {
            "marker": {
             "colorbar": {
              "outlinewidth": 0,
              "ticks": ""
             }
            },
            "type": "scattergl"
           }
          ],
          "scattermapbox": [
           {
            "marker": {
             "colorbar": {
              "outlinewidth": 0,
              "ticks": ""
             }
            },
            "type": "scattermapbox"
           }
          ],
          "scatterpolar": [
           {
            "marker": {
             "colorbar": {
              "outlinewidth": 0,
              "ticks": ""
             }
            },
            "type": "scatterpolar"
           }
          ],
          "scatterpolargl": [
           {
            "marker": {
             "colorbar": {
              "outlinewidth": 0,
              "ticks": ""
             }
            },
            "type": "scatterpolargl"
           }
          ],
          "scatterternary": [
           {
            "marker": {
             "colorbar": {
              "outlinewidth": 0,
              "ticks": ""
             }
            },
            "type": "scatterternary"
           }
          ],
          "surface": [
           {
            "colorbar": {
             "outlinewidth": 0,
             "ticks": ""
            },
            "colorscale": [
             [
              0,
              "#0d0887"
             ],
             [
              0.1111111111111111,
              "#46039f"
             ],
             [
              0.2222222222222222,
              "#7201a8"
             ],
             [
              0.3333333333333333,
              "#9c179e"
             ],
             [
              0.4444444444444444,
              "#bd3786"
             ],
             [
              0.5555555555555556,
              "#d8576b"
             ],
             [
              0.6666666666666666,
              "#ed7953"
             ],
             [
              0.7777777777777778,
              "#fb9f3a"
             ],
             [
              0.8888888888888888,
              "#fdca26"
             ],
             [
              1,
              "#f0f921"
             ]
            ],
            "type": "surface"
           }
          ],
          "table": [
           {
            "cells": {
             "fill": {
              "color": "#EBF0F8"
             },
             "line": {
              "color": "white"
             }
            },
            "header": {
             "fill": {
              "color": "#C8D4E3"
             },
             "line": {
              "color": "white"
             }
            },
            "type": "table"
           }
          ]
         },
         "layout": {
          "annotationdefaults": {
           "arrowcolor": "#2a3f5f",
           "arrowhead": 0,
           "arrowwidth": 1
          },
          "autotypenumbers": "strict",
          "coloraxis": {
           "colorbar": {
            "outlinewidth": 0,
            "ticks": ""
           }
          },
          "colorscale": {
           "diverging": [
            [
             0,
             "#8e0152"
            ],
            [
             0.1,
             "#c51b7d"
            ],
            [
             0.2,
             "#de77ae"
            ],
            [
             0.3,
             "#f1b6da"
            ],
            [
             0.4,
             "#fde0ef"
            ],
            [
             0.5,
             "#f7f7f7"
            ],
            [
             0.6,
             "#e6f5d0"
            ],
            [
             0.7,
             "#b8e186"
            ],
            [
             0.8,
             "#7fbc41"
            ],
            [
             0.9,
             "#4d9221"
            ],
            [
             1,
             "#276419"
            ]
           ],
           "sequential": [
            [
             0,
             "#0d0887"
            ],
            [
             0.1111111111111111,
             "#46039f"
            ],
            [
             0.2222222222222222,
             "#7201a8"
            ],
            [
             0.3333333333333333,
             "#9c179e"
            ],
            [
             0.4444444444444444,
             "#bd3786"
            ],
            [
             0.5555555555555556,
             "#d8576b"
            ],
            [
             0.6666666666666666,
             "#ed7953"
            ],
            [
             0.7777777777777778,
             "#fb9f3a"
            ],
            [
             0.8888888888888888,
             "#fdca26"
            ],
            [
             1,
             "#f0f921"
            ]
           ],
           "sequentialminus": [
            [
             0,
             "#0d0887"
            ],
            [
             0.1111111111111111,
             "#46039f"
            ],
            [
             0.2222222222222222,
             "#7201a8"
            ],
            [
             0.3333333333333333,
             "#9c179e"
            ],
            [
             0.4444444444444444,
             "#bd3786"
            ],
            [
             0.5555555555555556,
             "#d8576b"
            ],
            [
             0.6666666666666666,
             "#ed7953"
            ],
            [
             0.7777777777777778,
             "#fb9f3a"
            ],
            [
             0.8888888888888888,
             "#fdca26"
            ],
            [
             1,
             "#f0f921"
            ]
           ]
          },
          "colorway": [
           "#636efa",
           "#EF553B",
           "#00cc96",
           "#ab63fa",
           "#FFA15A",
           "#19d3f3",
           "#FF6692",
           "#B6E880",
           "#FF97FF",
           "#FECB52"
          ],
          "font": {
           "color": "#2a3f5f"
          },
          "geo": {
           "bgcolor": "white",
           "lakecolor": "white",
           "landcolor": "#E5ECF6",
           "showlakes": true,
           "showland": true,
           "subunitcolor": "white"
          },
          "hoverlabel": {
           "align": "left"
          },
          "hovermode": "closest",
          "mapbox": {
           "style": "light"
          },
          "paper_bgcolor": "white",
          "plot_bgcolor": "#E5ECF6",
          "polar": {
           "angularaxis": {
            "gridcolor": "white",
            "linecolor": "white",
            "ticks": ""
           },
           "bgcolor": "#E5ECF6",
           "radialaxis": {
            "gridcolor": "white",
            "linecolor": "white",
            "ticks": ""
           }
          },
          "scene": {
           "xaxis": {
            "backgroundcolor": "#E5ECF6",
            "gridcolor": "white",
            "gridwidth": 2,
            "linecolor": "white",
            "showbackground": true,
            "ticks": "",
            "zerolinecolor": "white"
           },
           "yaxis": {
            "backgroundcolor": "#E5ECF6",
            "gridcolor": "white",
            "gridwidth": 2,
            "linecolor": "white",
            "showbackground": true,
            "ticks": "",
            "zerolinecolor": "white"
           },
           "zaxis": {
            "backgroundcolor": "#E5ECF6",
            "gridcolor": "white",
            "gridwidth": 2,
            "linecolor": "white",
            "showbackground": true,
            "ticks": "",
            "zerolinecolor": "white"
           }
          },
          "shapedefaults": {
           "line": {
            "color": "#2a3f5f"
           }
          },
          "ternary": {
           "aaxis": {
            "gridcolor": "white",
            "linecolor": "white",
            "ticks": ""
           },
           "baxis": {
            "gridcolor": "white",
            "linecolor": "white",
            "ticks": ""
           },
           "bgcolor": "#E5ECF6",
           "caxis": {
            "gridcolor": "white",
            "linecolor": "white",
            "ticks": ""
           }
          },
          "title": {
           "x": 0.05
          },
          "xaxis": {
           "automargin": true,
           "gridcolor": "white",
           "linecolor": "white",
           "ticks": "",
           "title": {
            "standoff": 15
           },
           "zerolinecolor": "white",
           "zerolinewidth": 2
          },
          "yaxis": {
           "automargin": true,
           "gridcolor": "white",
           "linecolor": "white",
           "ticks": "",
           "title": {
            "standoff": 15
           },
           "zerolinecolor": "white",
           "zerolinewidth": 2
          }
         }
        },
        "title": {
         "text": "Top 10 Directors"
        },
        "xaxis": {
         "anchor": "y",
         "domain": [
          0,
          1
         ],
         "title": {
          "text": "director"
         }
        },
        "yaxis": {
         "anchor": "x",
         "domain": [
          0,
          1
         ],
         "title": {
          "text": "y"
         }
        }
       }
      },
      "image/png": "[encoded data removed]",
      "text/html": [
       "<div>                            <div id=\"5a9eb6db-266f-43e8-b4fc-f5ed1aed6b59\" class=\"plotly-graph-div\" style=\"height:525px; width:100%;\"></div>            <script type=\"text/javascript\">                require([\"plotly\"], function(Plotly) {                    window.PLOTLYENV=window.PLOTLYENV || {};                                    if (document.getElementById(\"5a9eb6db-266f-43e8-b4fc-f5ed1aed6b59\")) {                    Plotly.newPlot(                        \"5a9eb6db-266f-43e8-b4fc-f5ed1aed6b59\",                        [{\"alignmentgroup\":\"True\",\"hovertemplate\":\"director=%{x}\\u003cbr\\u003ey=%{y}\\u003cextra\\u003e\\u003c\\u002fextra\\u003e\",\"legendgroup\":\"\",\"marker\":{\"color\":\"#636efa\",\"pattern\":{\"shape\":\"\"}},\"name\":\"\",\"offsetgroup\":\"\",\"orientation\":\"v\",\"showlegend\":false,\"textposition\":\"auto\",\"x\":[\"unknow\",\"Rajiv Chilaka\",\"Ra\\u00fal Campos, Jan Suter\",\"Suhas Kadav\",\"Marcus Raboy\",\"Jay Karas\",\"Cathy Garcia-Molina\",\"Martin Scorsese\",\"Youssef Chahine\",\"Jay Chapman\"],\"xaxis\":\"x\",\"y\":[2634,19,18,16,16,14,13,12,12,12],\"yaxis\":\"y\",\"type\":\"bar\"}],                        {\"template\":{\"data\":{\"histogram2dcontour\":[{\"type\":\"histogram2dcontour\",\"colorbar\":{\"outlinewidth\":0,\"ticks\":\"\"},\"colorscale\":[[0.0,\"#0d0887\"],[0.1111111111111111,\"#46039f\"],[0.2222222222222222,\"#7201a8\"],[0.3333333333333333,\"#9c179e\"],[0.4444444444444444,\"#bd3786\"],[0.5555555555555556,\"#d8576b\"],[0.6666666666666666,\"#ed7953\"],[0.7777777777777778,\"#fb9f3a\"],[0.8888888888888888,\"#fdca26\"],[1.0,\"#f0f921\"]]}],\"choropleth\":[{\"type\":\"choropleth\",\"colorbar\":{\"outlinewidth\":0,\"ticks\":\"\"}}],\"histogram2d\":[{\"type\":\"histogram2d\",\"colorbar\":{\"outlinewidth\":0,\"ticks\":\"\"},\"colorscale\":[[0.0,\"#0d0887\"],[0.1111111111111111,\"#46039f\"],[0.2222222222222222,\"#7201a8\"],[0.3333333333333333,\"#9c179e\"],[0.4444444444444444,\"#bd3786\"],[0.5555555555555556,\"#d8576b\"],[0.6666666666666666,\"#ed7953\"],[0.7777777777777778,\"#fb9f3a\"],[0.8888888888888888,\"#fdca26\"],[1.0,\"#f0f921\"]]}],\"heatmap\":[{\"type\":\"heatmap\",\"colorbar\":{\"outlinewidth\":0,\"ticks\":\"\"},\"colorscale\":[[0.0,\"#0d0887\"],[0.1111111111111111,\"#46039f\"],[0.2222222222222222,\"#7201a8\"],[0.3333333333333333,\"#9c179e\"],[0.4444444444444444,\"#bd3786\"],[0.5555555555555556,\"#d8576b\"],[0.6666666666666666,\"#ed7953\"],[0.7777777777777778,\"#fb9f3a\"],[0.8888888888888888,\"#fdca26\"],[1.0,\"#f0f921\"]]}],\"heatmapgl\":[{\"type\":\"heatmapgl\",\"colorbar\":{\"outlinewidth\":0,\"ticks\":\"\"},\"colorscale\":[[0.0,\"#0d0887\"],[0.1111111111111111,\"#46039f\"],[0.2222222222222222,\"#7201a8\"],[0.3333333333333333,\"#9c179e\"],[0.4444444444444444,\"#bd3786\"],[0.5555555555555556,\"#d8576b\"],[0.6666666666666666,\"#ed7953\"],[0.7777777777777778,\"#fb9f3a\"],[0.8888888888888888,\"#fdca26\"],[1.0,\"#f0f921\"]]}],\"contourcarpet\":[{\"type\":\"contourcarpet\",\"colorbar\":{\"outlinewidth\":0,\"ticks\":\"\"}}],\"contour\":[{\"type\":\"contour\",\"colorbar\":{\"outlinewidth\":0,\"ticks\":\"\"},\"colorscale\":[[0.0,\"#0d0887\"],[0.1111111111111111,\"#46039f\"],[0.2222222222222222,\"#7201a8\"],[0.3333333333333333,\"#9c179e\"],[0.4444444444444444,\"#bd3786\"],[0.5555555555555556,\"#d8576b\"],[0.6666666666666666,\"#ed7953\"],[0.7777777777777778,\"#fb9f3a\"],[0.8888888888888888,\"#fdca26\"],[1.0,\"#f0f921\"]]}],\"surface\":[{\"type\":\"surface\",\"colorbar\":{\"outlinewidth\":0,\"ticks\":\"\"},\"colorscale\":[[0.0,\"#0d0887\"],[0.1111111111111111,\"#46039f\"],[0.2222222222222222,\"#7201a8\"],[0.3333333333333333,\"#9c179e\"],[0.4444444444444444,\"#bd3786\"],[0.5555555555555556,\"#d8576b\"],[0.6666666666666666,\"#ed7953\"],[0.7777777777777778,\"#fb9f3a\"],[0.8888888888888888,\"#fdca26\"],[1.0,\"#f0f921\"]]}],\"mesh3d\":[{\"type\":\"mesh3d\",\"colorbar\":{\"outlinewidth\":0,\"ticks\":\"\"}}],\"scatter\":[{\"fillpattern\":{\"fillmode\":\"overlay\",\"size\":10,\"solidity\":0.2},\"type\":\"scatter\"}],\"parcoords\":[{\"type\":\"parcoords\",\"line\":{\"colorbar\":{\"outlinewidth\":0,\"ticks\":\"\"}}}],\"scatterpolargl\":[{\"type\":\"scatterpolargl\",\"marker\":{\"colorbar\":{\"outlinewidth\":0,\"ticks\":\"\"}}}],\"bar\":[{\"error_x\":{\"color\":\"#2a3f5f\"},\"error_y\":{\"color\":\"#2a3f5f\"},\"marker\":{\"line\":{\"color\":\"#E5ECF6\",\"width\":0.5},\"pattern\":{\"fillmode\":\"overlay\",\"size\":10,\"solidity\":0.2}},\"type\":\"bar\"}],\"scattergeo\":[{\"type\":\"scattergeo\",\"marker\":{\"colorbar\":{\"outlinewidth\":0,\"ticks\":\"\"}}}],\"scatterpolar\":[{\"type\":\"scatterpolar\",\"marker\":{\"colorbar\":{\"outlinewidth\":0,\"ticks\":\"\"}}}],\"histogram\":[{\"marker\":{\"pattern\":{\"fillmode\":\"overlay\",\"size\":10,\"solidity\":0.2}},\"type\":\"histogram\"}],\"scattergl\":[{\"type\":\"scattergl\",\"marker\":{\"colorbar\":{\"outlinewidth\":0,\"ticks\":\"\"}}}],\"scatter3d\":[{\"type\":\"scatter3d\",\"line\":{\"colorbar\":{\"outlinewidth\":0,\"ticks\":\"\"}},\"marker\":{\"colorbar\":{\"outlinewidth\":0,\"ticks\":\"\"}}}],\"scattermapbox\":[{\"type\":\"scattermapbox\",\"marker\":{\"colorbar\":{\"outlinewidth\":0,\"ticks\":\"\"}}}],\"scatterternary\":[{\"type\":\"scatterternary\",\"marker\":{\"colorbar\":{\"outlinewidth\":0,\"ticks\":\"\"}}}],\"scattercarpet\":[{\"type\":\"scattercarpet\",\"marker\":{\"colorbar\":{\"outlinewidth\":0,\"ticks\":\"\"}}}],\"carpet\":[{\"aaxis\":{\"endlinecolor\":\"#2a3f5f\",\"gridcolor\":\"white\",\"linecolor\":\"white\",\"minorgridcolor\":\"white\",\"startlinecolor\":\"#2a3f5f\"},\"baxis\":{\"endlinecolor\":\"#2a3f5f\",\"gridcolor\":\"white\",\"linecolor\":\"white\",\"minorgridcolor\":\"white\",\"startlinecolor\":\"#2a3f5f\"},\"type\":\"carpet\"}],\"table\":[{\"cells\":{\"fill\":{\"color\":\"#EBF0F8\"},\"line\":{\"color\":\"white\"}},\"header\":{\"fill\":{\"color\":\"#C8D4E3\"},\"line\":{\"color\":\"white\"}},\"type\":\"table\"}],\"barpolar\":[{\"marker\":{\"line\":{\"color\":\"#E5ECF6\",\"width\":0.5},\"pattern\":{\"fillmode\":\"overlay\",\"size\":10,\"solidity\":0.2}},\"type\":\"barpolar\"}],\"pie\":[{\"automargin\":true,\"type\":\"pie\"}]},\"layout\":{\"autotypenumbers\":\"strict\",\"colorway\":[\"#636efa\",\"#EF553B\",\"#00cc96\",\"#ab63fa\",\"#FFA15A\",\"#19d3f3\",\"#FF6692\",\"#B6E880\",\"#FF97FF\",\"#FECB52\"],\"font\":{\"color\":\"#2a3f5f\"},\"hovermode\":\"closest\",\"hoverlabel\":{\"align\":\"left\"},\"paper_bgcolor\":\"white\",\"plot_bgcolor\":\"#E5ECF6\",\"polar\":{\"bgcolor\":\"#E5ECF6\",\"angularaxis\":{\"gridcolor\":\"white\",\"linecolor\":\"white\",\"ticks\":\"\"},\"radialaxis\":{\"gridcolor\":\"white\",\"linecolor\":\"white\",\"ticks\":\"\"}},\"ternary\":{\"bgcolor\":\"#E5ECF6\",\"aaxis\":{\"gridcolor\":\"white\",\"linecolor\":\"white\",\"ticks\":\"\"},\"baxis\":{\"gridcolor\":\"white\",\"linecolor\":\"white\",\"ticks\":\"\"},\"caxis\":{\"gridcolor\":\"white\",\"linecolor\":\"white\",\"ticks\":\"\"}},\"coloraxis\":{\"colorbar\":{\"outlinewidth\":0,\"ticks\":\"\"}},\"colorscale\":{\"sequential\":[[0.0,\"#0d0887\"],[0.1111111111111111,\"#46039f\"],[0.2222222222222222,\"#7201a8\"],[0.3333333333333333,\"#9c179e\"],[0.4444444444444444,\"#bd3786\"],[0.5555555555555556,\"#d8576b\"],[0.6666666666666666,\"#ed7953\"],[0.7777777777777778,\"#fb9f3a\"],[0.8888888888888888,\"#fdca26\"],[1.0,\"#f0f921\"]],\"sequentialminus\":[[0.0,\"#0d0887\"],[0.1111111111111111,\"#46039f\"],[0.2222222222222222,\"#7201a8\"],[0.3333333333333333,\"#9c179e\"],[0.4444444444444444,\"#bd3786\"],[0.5555555555555556,\"#d8576b\"],[0.6666666666666666,\"#ed7953\"],[0.7777777777777778,\"#fb9f3a\"],[0.8888888888888888,\"#fdca26\"],[1.0,\"#f0f921\"]],\"diverging\":[[0,\"#8e0152\"],[0.1,\"#c51b7d\"],[0.2,\"#de77ae\"],[0.3,\"#f1b6da\"],[0.4,\"#fde0ef\"],[0.5,\"#f7f7f7\"],[0.6,\"#e6f5d0\"],[0.7,\"#b8e186\"],[0.8,\"#7fbc41\"],[0.9,\"#4d9221\"],[1,\"#276419\"]]},\"xaxis\":{\"gridcolor\":\"white\",\"linecolor\":\"white\",\"ticks\":\"\",\"title\":{\"standoff\":15},\"zerolinecolor\":\"white\",\"automargin\":true,\"zerolinewidth\":2},\"yaxis\":{\"gridcolor\":\"white\",\"linecolor\":\"white\",\"ticks\":\"\",\"title\":{\"standoff\":15},\"zerolinecolor\":\"white\",\"automargin\":true,\"zerolinewidth\":2},\"scene\":{\"xaxis\":{\"backgroundcolor\":\"#E5ECF6\",\"gridcolor\":\"white\",\"linecolor\":\"white\",\"showbackground\":true,\"ticks\":\"\",\"zerolinecolor\":\"white\",\"gridwidth\":2},\"yaxis\":{\"backgroundcolor\":\"#E5ECF6\",\"gridcolor\":\"white\",\"linecolor\":\"white\",\"showbackground\":true,\"ticks\":\"\",\"zerolinecolor\":\"white\",\"gridwidth\":2},\"zaxis\":{\"backgroundcolor\":\"#E5ECF6\",\"gridcolor\":\"white\",\"linecolor\":\"white\",\"showbackground\":true,\"ticks\":\"\",\"zerolinecolor\":\"white\",\"gridwidth\":2}},\"shapedefaults\":{\"line\":{\"color\":\"#2a3f5f\"}},\"annotationdefaults\":{\"arrowcolor\":\"#2a3f5f\",\"arrowhead\":0,\"arrowwidth\":1},\"geo\":{\"bgcolor\":\"white\",\"landcolor\":\"#E5ECF6\",\"subunitcolor\":\"white\",\"showland\":true,\"showlakes\":true,\"lakecolor\":\"white\"},\"title\":{\"x\":0.05},\"mapbox\":{\"style\":\"light\"}}},\"xaxis\":{\"anchor\":\"y\",\"domain\":[0.0,1.0],\"title\":{\"text\":\"director\"}},\"yaxis\":{\"anchor\":\"x\",\"domain\":[0.0,1.0],\"title\":{\"text\":\"y\"}},\"legend\":{\"tracegroupgap\":0},\"title\":{\"text\":\"Top 10 Directors\"},\"barmode\":\"relative\"},                        {\"responsive\": true}                    ).then(function(){\n",
       "                            \n",
       "var gd = document.getElementById('5a9eb6db-266f-43e8-b4fc-f5ed1aed6b59');\n",
       "var x = new MutationObserver(function (mutations, observer) {{\n",
       "        var display = window.getComputedStyle(gd).display;\n",
       "        if (!display || display === 'none') {{\n",
       "            console.log([gd, 'removed!']);\n",
       "            Plotly.purge(gd);\n",
       "            observer.disconnect();\n",
       "        }}\n",
       "}});\n",
       "\n",
       "// Listen for the removal of the full notebook cells\n",
       "var notebookContainer = gd.closest('#notebook-container');\n",
       "if (notebookContainer) {{\n",
       "    x.observe(notebookContainer, {childList: true});\n",
       "}}\n",
       "\n",
       "// Listen for the clearing of the current output cell\n",
       "var outputEl = gd.closest('.output');\n",
       "if (outputEl) {{\n",
       "    x.observe(outputEl, {childList: true});\n",
       "}}\n",
       "\n",
       "                        })                };                });            </script>        </div>"
      ]
     },
     "metadata": {},
     "output_type": "display_data"
    }
   ],
   "source": [
    "top_directors = df['director'].value_counts().head(10)\n",
    "fig = px.bar(top_directors, x=top_directors.index, y=top_directors.values, title=\"Top 10 Directors\")\n",
    "fig.show()"
   ]
  },
  {
   "cell_type": "code",
   "execution_count": 21,
   "id": "155b5045-34ef-40a8-99f4-13258c2a5e71",
   "metadata": {},
   "outputs": [],
   "source": [
    "# Top 10 countries\n",
    "top_countries = df['country'].value_counts().head(10)"
   ]
  },
  {
   "cell_type": "code",
   "execution_count": 22,
   "id": "da0213ff-7799-403f-a899-17524a33e8bd",
   "metadata": {},
   "outputs": [
    {
     "data": {
      "image/png": "[encoded data removed]",
      "text/plain": [
       "<Figure size 1000x600 with 1 Axes>"
      ]
     },
     "metadata": {},
     "output_type": "display_data"
    }
   ],
   "source": [
    "# Plot\n",
    "plt.figure(figsize=(10,6))\n",
    "top_countries.plot(kind='barh', color='skyblue')\n",
    "plt.xlabel('Number of Movies')\n",
    "plt.ylabel('Country')\n",
    "plt.title('Top 10 Countries by Number of Movies')\n",
    "plt.gca().invert_yaxis()  # Highest on top\n",
    "plt.show()"
   ]
  },
  {
   "cell_type": "code",
   "execution_count": 23,
   "id": "acb96047-0e4e-47ae-b6c6-4263442b9d9c",
   "metadata": {},
   "outputs": [
    {
     "data": {
      "image/png": "[encoded data removed]",
      "text/plain": [
       "<Figure size 1000x600 with 1 Axes>"
      ]
     },
     "metadata": {},
     "output_type": "display_data"
    }
   ],
   "source": [
    "top_directors = df['director'].value_counts().head(10)\n",
    "\n",
    "plt.figure(figsize=(10,6))\n",
    "top_directors.plot(kind='barh', color='lightgreen')\n",
    "plt.xlabel('Number of Movies')\n",
    "plt.ylabel('Director')\n",
    "plt.title('Top 10 Directors by Number of Movies')\n",
    "plt.gca().invert_yaxis()\n",
    "plt.show()"
   ]
  },
  {
   "cell_type": "code",
   "execution_count": 24,
   "id": "2922aaaa-cfbe-4934-bff4-fc7d05f687c3",
   "metadata": {},
   "outputs": [
    {
     "data": {
      "image/png": "[encoded data removed]",
      "text/plain": [
       "<Figure size 700x700 with 1 Axes>"
      ]
     },
     "metadata": {},
     "output_type": "display_data"
    }
   ],
   "source": [
    "top_genres = df['listed_in'].value_counts().head(10)\n",
    "top_genres.plot(kind='pie', autopct='%1.1f%%', figsize=(7,7), startangle=140)\n",
    "plt.title('Top 10 Movie Genres')\n",
    "plt.ylabel('')\n",
    "plt.show()"
   ]
  },
  {
   "cell_type": "code",
   "execution_count": 25,
   "id": "4bc38148-0ae3-45c3-b770-21e570db07bb",
   "metadata": {},
   "outputs": [
    {
     "data": {
      "image/png": "[encoded data removed]",
      "text/plain": [
       "<Figure size 1200x600 with 1 Axes>"
      ]
     },
     "metadata": {},
     "output_type": "display_data"
    }
   ],
   "source": [
    "movies_per_year = df['release_year'].value_counts().sort_index()\n",
    "movies_per_year.plot(kind='line', figsize=(12,6), marker='o')\n",
    "plt.title('Movies Released Over Years')\n",
    "plt.xlabel('Year')\n",
    "plt.ylabel('Number of Movies')\n",
    "plt.show()"
   ]
  },
  {
   "cell_type": "code",
   "execution_count": 28,
   "id": "2fd3dc41-cdce-480d-bba2-e70ede1ae915",
   "metadata": {},
   "outputs": [
    {
     "data": {
      "image/png": "[encoded data removed]",
      "text/plain": [
       "<Figure size 1200x600 with 1 Axes>"
      ]
     },
     "metadata": {},
     "output_type": "display_data"
    }
   ],
   "source": [
    "rating_year = df.pivot_table(index='release_year', columns='rating', values='title', aggfunc='count').fillna(0)\n",
    "rating_year.plot(kind='bar', stacked=True, figsize=(12,6))\n",
    "plt.title('Movies by Rating Over Years')\n",
    "plt.xlabel('Release Year')\n",
    "plt.ylabel('Number of Movies')\n",
    "plt.show()"
   ]
  },
  {
   "cell_type": "code",
   "execution_count": 33,
   "id": "625e1d26-e597-4b9f-9476-0b88e7bd7736",
   "metadata": {},
   "outputs": [
    {
     "data": {
      "application/vnd.plotly.v1+json": {
       "config": {
        "plotlyServerURL": "https://plot.ly"
       },
       "data": [
        {
         "geo": "geo",
         "hovertemplate": "movie_count=%{marker.size}<br>country=%{location}<extra></extra>",
         "legendgroup": "",
         "locationmode": "country names",
         "locations": [
          "United States",
          "India",
          "unknow countries",
          "United Kingdom",
          "Japan",
          "South Korea",
          "Canada",
          "Spain",
          "France",
          "Mexico",
          "Egypt",
          "Turkey",
          "Nigeria",
          "Australia",
          "Taiwan",
          "Indonesia",
          "Brazil",
          "Philippines",
          "United Kingdom, United States",
          "United States, Canada",
          "Germany",
          "China",
          "Thailand",
          "Argentina",
          "Hong Kong",
          "United States, United Kingdom",
          "Italy",
          "Canada, United States",
          "Colombia",
          "South Africa",
          "France, Belgium",
          "Poland",
          "Singapore",
          "Malaysia",
          "Netherlands",
          "Pakistan",
          "United States, Germany",
          "United States, Japan",
          "United States, France",
          "Hong Kong, China",
          "Lebanon",
          "Russia",
          "United States, Mexico",
          "China, Hong Kong",
          "Chile",
          "United Arab Emirates",
          "Sweden",
          "Israel",
          "Denmark",
          "Mexico, United States",
          "Australia, United States",
          "Germany, United States",
          "New Zealand",
          "Japan, United States",
          "Norway",
          "United States, Australia",
          "Ireland",
          "France, United States",
          "India, United States",
          "Belgium",
          "United States, India",
          "United States, China",
          "Argentina, Spain",
          "United Kingdom, Canada, United States",
          "Saudi Arabia",
          "Vietnam",
          "United States, France, Japan",
          "United Kingdom, France",
          "South Korea, United States",
          "Romania",
          "Kuwait",
          "Iceland",
          "United States, New Zealand",
          "Spain, France",
          "India, France",
          "Italy, France",
          "United States, Czech Republic",
          "United States, Italy",
          "Austria",
          "Israel, United States",
          "Italy, United States",
          "South Africa, United States",
          "United Kingdom, France, United States",
          "United States, United Kingdom, France",
          "United Kingdom, Canada",
          "United Kingdom, United States, Spain, Germany, Greece, Canada",
          "United States, United Kingdom, Australia",
          "Poland, United States",
          "Hungary",
          "Canada, United States, United Kingdom",
          "Peru",
          "United Kingdom, Germany",
          "Mexico, Spain",
          "United States, Bulgaria",
          "United States, Spain",
          "United States, Russia",
          "Hong Kong, United States",
          "Kenya",
          "Spain, Argentina",
          "France, Egypt",
          "United Kingdom, United States, Australia",
          "Bangladesh",
          "Uruguay",
          "United States, Colombia",
          "United States, United Arab Emirates",
          "United States, South Africa",
          "United States, Hong Kong",
          "Bulgaria, United States",
          "United States, Ireland",
          "United Kingdom, Ireland",
          "China, Canada, United States",
          "France, Canada",
          "Denmark, United States",
          "Belgium, France",
          "Ghana",
          "Spain, Germany",
          "United States, Germany, Canada",
          "United Kingdom, Japan, United States",
          "United States, Sweden",
          "Sweden, United States",
          "China, United Kingdom",
          "United States, Chile",
          "India, Soviet Union",
          "Jordan",
          "Ireland, United Kingdom, United States",
          "France, United Kingdom, United States",
          "United States, South Korea, China",
          "United States, United Kingdom, Canada",
          "United States, Nigeria",
          "United States, China, Hong Kong",
          "Ukraine",
          "New Zealand, United States",
          "Colombia, Mexico, United States",
          "Canada, India",
          "United States, Greece",
          "Germany, United Kingdom",
          "Canada, Australia",
          "United States, United Kingdom, Germany",
          "United Arab Emirates, United States",
          "United States, Japan, Canada",
          "France, Japan, United States",
          "United Kingdom, India",
          "Belgium, Netherlands",
          "United Kingdom, India, United States",
          "Czech Republic, United States",
          "Norway, Iceland, United States",
          "Australia, United Arab Emirates",
          "United Kingdom, Belgium",
          "Switzerland",
          "Australia, Canada",
          "Spain, Mexico",
          "Indonesia, Singapore",
          "Hong Kong, China, United States",
          "Netherlands, Belgium",
          "India, United Kingdom",
          "United Kingdom, Germany, United States",
          "Australia, United Kingdom",
          "India, Germany",
          "United Kingdom, France, Germany, United States",
          "Spain, United Kingdom",
          "Singapore, United States",
          "Canada, South Africa",
          "United Kingdom,",
          "United States, Argentina",
          "United Kingdom, Italy",
          "Ireland, United Kingdom",
          "China, Taiwan",
          "United Kingdom, United States, France",
          "United Kingdom, Nigeria",
          "Pakistan, United States",
          "United States, Thailand",
          "Argentina, Chile",
          "Thailand, United States",
          "Serbia, United States",
          "Brazil, France",
          "Turkey, United States",
          "Egypt, France",
          "Canada, United Kingdom",
          "United States, South Korea",
          "Canada, United Kingdom, United States",
          "Lebanon, Canada, France",
          "Spain, Italy",
          "China, United States",
          "Canada, United States, France",
          "Portugal, Spain",
          "Germany, Czech Republic",
          "United Arab Emirates, Jordan",
          "United States, Ghana, Burkina Faso, United Kingdom, Germany, Ethiopia",
          "United States, India, France",
          "United States, Australia, South Africa, United Kingdom",
          "Denmark, Indonesia, Finland, Norway, United Kingdom, Israel, France, United States, Germany, Netherlands",
          "Ireland, United Kingdom, Greece, France, Netherlands",
          "France, Canada, Italy, United States, China",
          "Belgium, Ireland, Netherlands, Germany, Afghanistan",
          "India, Germany, France",
          "United Kingdom, Canada, France, United States",
          "United States, India, United Arab Emirates",
          "Spain, Canada, United States",
          "United States, United Kingdom, Morocco",
          "United Kingdom, United States, Morocco",
          "United States, Sweden, Norway",
          "United States, Italy, France, Japan",
          "United Kingdom, Australia, France, United States",
          "United Kingdom, Australia, France",
          "United States, Singapore",
          "United States, Malta, France, United Kingdom",
          "United Kingdom, Singapore",
          "United States, Ireland, United Kingdom, India",
          "United States, France, Serbia",
          "Ireland, France, Iceland, United States, Mexico, Belgium, United Kingdom, Hong Kong",
          "Philippines, Canada, United Kingdom, United States",
          "United Kingdom, Finland, Germany, United States, Australia, Japan, France, Ireland",
          "France, Algeria",
          "Senegal",
          "United Kingdom, Germany, France, United States",
          "Canada, Hungary, United States",
          "Canada, United States, Cayman Islands",
          "Hungary, United States",
          "United Kingdom, Spain, United States",
          "Portugal, United States",
          "Switzerland, United Kingdom, United States",
          "India, United Kingdom, France, Qatar",
          "United States, India, United Kingdom",
          "Lebanon, France",
          "Lebanon, United States, United Arab Emirates",
          "France, Belgium, Italy",
          "Lebanon, United Arab Emirates, France, Switzerland, Germany",
          "Canada, Belgium",
          "Ireland, Luxembourg, Belgium",
          "Spain, Thailand, United States",
          "United States, China, Colombia",
          "United States, France, Denmark",
          "Denmark, Singapore, Canada, United States",
          "Spain, France, Canada",
          "Japan, Canada, United States",
          "Canada, United States, Ireland",
          "United States, China, Canada",
          "United States, France, Canada, Belgium",
          "United Kingdom, France, United States, Belgium, Luxembourg, China, Germany",
          "United Kingdom, France, Germany, Spain",
          "United Kingdom, Kenya",
          "Namibia",
          "Turkey, South Korea",
          "Indonesia, Netherlands",
          "United States, United Kingdom, India",
          "Sweden, Czech Republic, United Kingdom, Denmark, Netherlands",
          "France, Norway, Lebanon, Belgium",
          "France, Lebanon, United Kingdom",
          "France, Lebanon",
          "Spain, Belgium, United States",
          "United States, Cambodia, Romania",
          "Luxembourg",
          "Chile, Brazil",
          "Belarus",
          "United Kingdom, Australia",
          "France, Belgium, Luxembourg, Cambodia,",
          "China, Spain, South Korea, United States",
          "Mozambique",
          "Peru, Germany, Norway",
          "United States, Canada, United Kingdom",
          "United States, United Kingdom, Canada, China",
          "United States, Philippines",
          "South Africa, Angola",
          "United States, Belgium, Canada, France",
          "France, Australia, Germany",
          "Hong Kong, Iceland, United States",
          "Australia, New Zealand, United States",
          "Germany, China, United Kingdom",
          "United Kingdom, China",
          "Canada, Nigeria",
          "Romania, United States",
          "United Kingdom, Germany, United Arab Emirates, New Zealand",
          "Zimbabwe",
          "Saudi Arabia, United Arab Emirates",
          "United States, Mexico, Spain, Malta",
          "United Arab Emirates, Jordan, Lebanon, Saudi Arabia",
          "United States, France, Canada",
          "Nigeria, United Kingdom",
          "Canada, South Korea, United States",
          "Egypt, Algeria",
          "France, Brazil, Spain, Belgium",
          "Chile, Italy",
          "Spain, France, Canada, United States",
          "Switzerland, France, Belgium, United States",
          "Indonesia, United Kingdom",
          "United Kingdom, France, Poland, Germany, United States",
          "Egypt, Saudi Arabia",
          "Uruguay, Germany",
          "Lebanon, Palestine, Denmark, Qatar",
          "Cameroon",
          "United States, China, United Kingdom",
          "United States, Brazil, Japan, Spain, India",
          "Italy, United Kingdom",
          "Turkey, India",
          "United States, Mexico, Colombia",
          "Italy, United Kingdom, France",
          "India, United Kingdom, China, Canada, Japan, South Korea, United States",
          "United Kingdom, Germany, United States, France",
          "Finland, France",
          "United Kingdom, Spain",
          "Saudi Arabia, Netherlands, Germany, Jordan, United Arab Emirates, United States",
          "Brazil, United Kingdom",
          "United Kingdom, United States, Ireland",
          "Taiwan, China",
          "Austria, Germany",
          "Netherlands, Germany, Denmark, United Kingdom",
          "United Kingdom, France, Belgium, Canada, United States",
          "United States, United Kingdom, Japan",
          "Uruguay, Argentina",
          "Puerto Rico, United States, Colombia",
          "France, Belgium, United States",
          "United Kingdom, United States, Japan",
          "Italy, Turkey",
          "Russia, United States",
          "Ireland, United Kingdom, France, Germany",
          "United Kingdom, South Africa, France",
          "Ireland, Switzerland, United Kingdom, France, United States",
          "Canada, Nigeria, United States",
          "United States, United Kingdom, New Zealand",
          "United Kingdom, France, Spain, United States",
          "Germany, France",
          "Spain, France, United States",
          "United States, United Kingdom, France, Germany, Japan",
          "Uruguay, Argentina, Germany, Spain",
          "Taiwan, Malaysia",
          "France, South Korea, Japan, United States",
          "Kenya, United States",
          "United States, Norway, Canada",
          "United Kingdom, France, Belgium, Ireland, United States",
          "Cyprus",
          "France, Malta, United States",
          "Romania, United Kingdom",
          "Romania, France, Switzerland, Germany",
          "Philippines, United States",
          "India, United Kingdom, Canada, United States",
          "United Kingdom, United States, Germany, Denmark, Belgium, Japan",
          "United States, Poland",
          "Mauritius, South Africa",
          "France, Japan",
          "Argentina, Uruguay, Serbia",
          "South Korea, Canada, United States, China",
          "Norway, Sweden",
          "Spain, Germany, Denmark, United States",
          "Netherlands, Germany, Italy, Canada",
          "Indonesia, South Korea, Singapore",
          "Czech Republic, United Kingdom, United States",
          "Canada, United States, Mexico",
          "France, United Kingdom",
          "France, United States, United Kingdom, Canada",
          "Argentina, United States, Mexico",
          "Finland, Germany, Belgium",
          "Canada, Norway",
          "Mexico, United States, Spain, Colombia",
          "France, Senegal, Belgium",
          "Mexico, Brazil",
          "Mauritius",
          "Syria, France, Lebanon, Qatar",
          "Norway, Denmark",
          "Germany, United States, France",
          "Mexico, France, Colombia",
          "Canada, United States, Denmark",
          "Lebanon, United Arab Emirates",
          "China, United States, Canada",
          "Uruguay, Guatemala",
          "Romania, Bulgaria, Hungary",
          "United Kingdom, United States, France, Italy",
          "Colombia, Peru, United Kingdom",
          "Germany, Italy",
          "Taiwan, China, France, United States",
          "Philippines, Singapore",
          "Malaysia, Singapore, Hong Kong",
          "India, Turkey",
          "Denmark, Brazil, France, Portugal, Sweden",
          "Brazil, United States",
          "United Kingdom, Hong Kong",
          "South Africa, Nigeria",
          "France, Belgium, Luxembourg, Romania, Canada, United States",
          "Singapore, Malaysia",
          "Italy, Belgium",
          "United Kingdom, Hungary, Australia",
          "United States, South Korea, Japan",
          "Ghana, United States",
          "Pakistan, United Arab Emirates",
          "Canada, Germany",
          "Canada, Brazil",
          "United Kingdom, Belgium, Sweden",
          "Chile, Argentina",
          "Denmark, Spain",
          "France, Luxembourg, Canada",
          "Uruguay, Spain, Mexico",
          "Argentina, United States",
          "Thailand, China, United States",
          "Philippines, Singapore, Indonesia",
          "Lebanon, Syria",
          "Finland, Germany",
          "United States, United Kingdom, Germany, Hungary",
          "United States, France, Italy, United Kingdom",
          "Norway, Denmark, Netherlands, Sweden",
          "United Kingdom, Japan",
          "Canada, Germany, France, United States",
          "United Kingdom, Ireland, United States",
          "Uruguay, Argentina, Spain",
          "Croatia",
          "Iceland, Sweden, Belgium",
          "Spain, Belgium",
          "India, Pakistan",
          "United Kingdom, Russia, United States",
          "Paraguay, Argentina",
          "United Kingdom, Malawi",
          "Austria, Iraq, United States",
          "United States, Taiwan",
          "United Arab Emirates, United Kingdom, India",
          "Mexico, Finland",
          "United Kingdom, Canada, United States, Cayman Islands",
          "Mexico, Argentina",
          "Spain, Portugal",
          "Russia, Poland, Serbia",
          "France, Iran, United States",
          "Germany, France, Russia",
          "Mexico, Netherlands",
          "Italy, Switzerland, France, Germany",
          "Ireland, Canada",
          "United Kingdom, Germany, Spain, United States",
          "United Kingdom, Australia, United States",
          "Australia, Germany",
          "South Korea, Czech Republic",
          "Australia, New Zealand",
          "Ireland, United States, United Kingdom",
          "France, Netherlands, Singapore",
          "Chile, Peru",
          "United States, Canada, Ireland",
          "Colombia, Mexico",
          "China, United States, Australia",
          "France, Luxembourg, United States",
          "China, United States, United Kingdom",
          "Argentina, France",
          "China, Japan",
          "United States, Brazil, South Korea, Mexico, Japan, Germany",
          "India, Germany, Austria",
          "Belgium, United Kingdom, United States",
          "United States,",
          "India, Australia",
          "United Kingdom, West Germany",
          "United States, Israel, United Kingdom, Canada",
          "Indonesia, United States",
          "Norway, Germany, Sweden",
          "Netherlands, Belgium, Germany, Jordan",
          "Philippines, Qatar",
          "United Kingdom, Spain, United States, Germany",
          "Argentina, Brazil, France, Poland, Germany, Denmark",
          "Bulgaria",
          "United Kingdom, South Africa, Australia, United States",
          "Spain, Colombia",
          "United States, Canada, Indonesia, United Kingdom, China, Singapore",
          "Saudi Arabia, Syria, Egypt, Lebanon, Kuwait",
          "Italy, United States, Argentina",
          "Cambodia",
          "Italy, Switzerland, Albania, Poland",
          "United Kingdom, Canada, United States, Germany",
          "Canada, Japan, United States",
          "Argentina, Italy",
          "Egypt, Denmark, Germany",
          "France, Israel, Germany, United States, United Kingdom",
          ", France, Algeria",
          "Spain, France, United Kingdom, United States",
          "Greece, United States",
          "Turkey, France, Germany, Poland",
          "Germany, Jordan, Netherlands",
          "India, Malaysia",
          "United Arab Emirates, Romania",
          "Georgia, Germany, France",
          "India, Mexico",
          "South Korea, China, United States",
          "Canada, Germany, South Africa",
          "Soviet Union, India",
          "Georgia",
          "South Korea, China",
          "Netherlands, United States",
          "Chile, France",
          "United Kingdom, France, Belgium, United States",
          "France, Canada, China, Cambodia",
          "United Kingdom, France, United States, Belgium",
          "Argentina, Uruguay, Spain, France",
          "United Kingdom, Italy, Israel, Peru, United States",
          "United States, Colombia, Mexico",
          "United States, Denmark",
          "Cambodia, United States",
          "France, Morocco",
          "Norway, Germany",
          "France, Canada, United States, Spain",
          "Kuwait, United States",
          "Hong Kong, Canada, United States",
          "United States, Switzerland",
          "United States, Hungary",
          "Canada, Japan, Netherlands",
          "Israel, Germany, France",
          "France, South Korea, Japan",
          "United Kingdom, Jordan, Qatar, Iran",
          "Lebanon, Qatar",
          "Austria, Czech Republic",
          "West Germany",
          "Chile, Spain, Argentina, Germany",
          "Spain, Italy, Argentina",
          "South Africa, United States, Germany",
          "United States, Australia, China",
          "Spain, Switzerland",
          "Singapore, France",
          "Czech Republic, Slovakia",
          "France, United Kingdom, India",
          "South Africa, China, United States",
          "Hong Kong, China, Singapore",
          "Spain, Mexico, France",
          "United States, France, United Kingdom",
          "United Kingdom, Egypt, United States",
          "United States, Hungary, Ireland, Canada",
          "United States, Bermuda, Ecuador",
          "Norway, United States",
          "Germany, Australia, France, China",
          "United Kingdom, Ukraine, United States",
          "Belgium, France, Netherlands",
          "Chile, United States, France",
          "Ireland, South Africa",
          "United Kingdom, Germany, Canada",
          "France, Qatar",
          "France, Germany",
          "Australia, Armenia, Japan, Jordan, Mexico, Mongolia, New Zealand, Philippines, South Africa, Sweden, United States, Uruguay",
          "Australia, United Kingdom, United Arab Emirates, Canada",
          "France, United States, Mexico",
          "Sweden, Netherlands",
          "Bulgaria, United States, Spain, Canada",
          "Canada, France",
          "France, Canada, Belgium",
          "Brazil, Netherlands, United States, Colombia, Austria, Germany",
          "Canada, Luxembourg",
          "United Kingdom, France, Germany",
          "Australia, France",
          "United Kingdom, United States, France, Germany",
          "Iran, France",
          "Netherlands, Denmark, South Africa",
          "New Zealand, United Kingdom",
          "Denmark, France, Poland",
          "Brazil, France, Germany",
          "United States, Canada, France",
          "United States, India, Bangladesh",
          "Germany, Sri Lanka",
          "China, Germany, India, United States",
          "United Kingdom, Czech Republic, United States, Germany, Bahamas",
          "France, New Zealand",
          "United Kingdom, Pakistan",
          "South Korea, Japan",
          "Netherlands, Denmark, France, Germany",
          "United States, Israel, Italy, South Africa",
          "United Kingdom, Russia",
          "United States, Iceland",
          "Denmark, Sweden, Israel, United States",
          "France, Belgium, Spain",
          "India, Iran",
          "United Kingdom, Czech Republic, Germany, United States",
          "United States, Australia, Mexico",
          "Denmark, France, Belgium, Italy, Netherlands, United States, United Kingdom",
          "United States, Italy, United Kingdom, Liechtenstein",
          "South Africa, United States, New Zealand, Canada",
          "Finland, Sweden, Norway, Latvia, Germany",
          "United Kingdom, South Africa",
          "Denmark, Zimbabwe",
          "United Kingdom, Poland, United States",
          "Germany, Australia",
          "Taiwan, Hong Kong, United States, China",
          "Czech Republic, France",
          "United Kingdom, Canada, Italy",
          "Germany, France, Luxembourg, United Kingdom, United States",
          "France, Germany, Switzerland",
          "Germany, United States, Hong Kong, Singapore",
          "Spain, Cuba",
          "United Kingdom, Israel, Russia",
          "United Arab Emirates, United States, United Kingdom",
          "Spain, France, Italy",
          "United States, Indonesia",
          "Canada, Spain, France",
          "Canada, France, Italy, Morocco, United States",
          "Venezuela",
          "United States, Canada, Belgium, United Kingdom",
          "Pakistan, Norway, United States",
          "Germany, Belgium",
          "France, China, Japan, United States",
          "Spain, United Kingdom, United States",
          "Switzerland, United Kingdom, Australia",
          "Belgium, United Kingdom",
          "Italy, Brazil, Greece",
          "Slovenia, Croatia, Germany, Czech Republic, Qatar",
          "Poland,",
          "Ireland, United Kingdom, Italy, United States",
          "Ireland, United States",
          "United States, Canada, Germany",
          "Russia, United States, China",
          "United States, France, Canada, Spain",
          "United States, United Kingdom, Italy",
          "United States, United Kingdom, Denmark, Sweden",
          "United States, France, United Kingdom, Japan",
          "Italy, Germany",
          "United Kingdom, Denmark, Canada, Croatia",
          "Italy, Canada, France",
          "United States, Nicaragua",
          "United States, France, Mexico",
          "United States, Brazil",
          "Netherlands, Belgium, United Kingdom, United States",
          "United States, France, Canada, Lebanon, Qatar",
          "United Kingdom, Germany, Canada, United States",
          "Germany, United States, Canada",
          "Ireland, United States, France",
          "Canada, United States, United Kingdom, France, Luxembourg",
          "South Africa, Germany, Netherlands, France",
          "Germany, United Kingdom, United States",
          "United States, Senegal",
          "United Kingdom, United States, Dominican Republic",
          "Canada, Ireland, United States",
          "United Kingdom, France, Belgium",
          "China, South Korea, United States",
          "India, Japan",
          "United States, Spain, Germany",
          "Canada, United Kingdom, Netherlands",
          "Argentina, Chile, Peru",
          "United States, Australia, Samoa, United Kingdom",
          "South Korea, France",
          "United States, Greece, Brazil",
          "Denmark, China",
          "United Kingdom, South Korea",
          "China, India, Nepal",
          "Norway, Denmark, Sweden",
          "United Kingdom, Norway, Denmark, Germany, Sweden",
          "United States, Chile, Israel",
          "France, Belgium, China, United States",
          "New Zealand, Australia, France, United States",
          "India, Nepal",
          ", South Korea",
          "Argentina, Venezuela",
          "United States, Italy, Romania, United Kingdom",
          "France, Switzerland, Spain, United States, United Arab Emirates",
          "Denmark, Germany, Belgium, United Kingdom, France, Sweden",
          "Denmark, Germany, Belgium, United Kingdom, France",
          "United States, India, South Korea, China",
          "Chile, Argentina, France, Spain, United States",
          "United States, Botswana",
          "Italy, India",
          "Switzerland, France",
          "Israel, Sweden, Germany, Netherlands",
          "United Kingdom, Poland",
          "Norway, United Kingdom, France, Ireland",
          "United States, Cambodia",
          "Canada, Spain",
          "Germany, United States, Sweden",
          "Poland, West Germany",
          "Turkey, Azerbaijan",
          "Singapore, Japan, France",
          "United States, Morocco",
          "India, Switzerland",
          "United States, Netherlands, Japan, France",
          "United States, New Zealand, Japan",
          "Portugal, France, Poland, United States",
          "Switzerland, Vatican City, Italy, Germany, France",
          "France, Germany, Czech Republic, Belgium",
          "Colombia, United States",
          "Venezuela, Colombia",
          "United Kingdom, Thailand",
          "Canada, United States, Germany",
          "China, Morocco, Hong Kong",
          "Australia, Iraq",
          "Denmark, France, United States, Sweden",
          "Brazil, India, China, United States",
          "United States, Germany, United Kingdom, Australia",
          "Italy, South Africa, West Germany, Australia, United States",
          "Guatemala",
          "United States, United Kingdom, Spain, South Korea",
          "Hong Kong, Taiwan",
          "Sweden, United Kingdom, Finland",
          "United States, United Kingdom, Canada, Japan",
          "Australia, India",
          "Australia, France, Ireland",
          "United States, Germany, Australia",
          "Ireland, Canada, United Kingdom, United States",
          "India, Canada",
          "United States, Uruguay",
          "Germany, France, United States, Canada, United Kingdom",
          "United Kingdom, United States, Canada",
          "Canada, Mexico, Germany, South Africa",
          "United States, Germany, United Kingdom",
          "Argentina, France, United States, Germany, Qatar",
          "United States, Kazakhstan",
          "Denmark, United Kingdom, Sweden",
          "United Kingdom, France, Canada, Belgium, United States",
          "France, United States, Canada",
          "Australia, United Kingdom, United States, New Zealand, Italy, France",
          "Jamaica, United States",
          "Australia, United Kingdom, Canada",
          "Czech Republic, United Kingdom, France",
          "United Kingdom, New Zealand",
          "China, Hong Kong, United States",
          "Thailand, Canada, United States",
          "Switzerland, United States",
          "Canada, France, United States",
          "Italy, France, Switzerland",
          "Spain, United States",
          "United Kingdom, China, United States, India",
          "United States, Greece, United Kingdom",
          "United Kingdom, Lithuania",
          "Austria, United States",
          "Israel, Germany, Poland, Luxembourg, Belgium, France, United States",
          "Mexico, France",
          "Israel, Germany",
          "United States, Czech Republic, United Kingdom",
          "Ireland, Canada, Luxembourg, United States, United Kingdom, Philippines, India",
          "United States, Canada, China",
          "France, Canada, United States",
          "Spain, France, Uruguay",
          "Finland, United States",
          "United States, New Zealand, United Kingdom",
          "United States, Germany, United Kingdom, Italy",
          "Finland",
          "United States, France, South Korea, Indonesia",
          "Japan, Canada",
          "Croatia, Slovenia, Serbia, Montenegro",
          "Russia, Spain",
          "Egypt, Austria, United States",
          "France, Netherlands, South Africa, Finland",
          "United States, East Germany, West Germany",
          "Canada, India, Thailand, United States, United Arab Emirates",
          "Germany, United States, United Kingdom, Canada",
          "Peru, United States, United Kingdom",
          "United States, Brazil, India, Uganda, China",
          "United Kingdom, India, Sweden",
          "United States, Canada, Japan, Panama",
          "Somalia, Kenya, Sudan, South Africa, United States",
          "United States, Germany, Mexico",
          "Canada, United States, India, United Kingdom",
          "United Kingdom, Namibia, South Africa, Zimbabwe, United States",
          "United Kingdom, Brazil, Germany",
          "United Kingdom, China, United States",
          "United Kingdom, United States, Czech Republic",
          "United Kingdom, Canada, Japan",
          "United States, Venezuela",
          "Germany, United States, Italy",
          "United Kingdom, Australia, Canada, United States",
          "New Zealand, United Kingdom, Australia",
          "Ireland, Canada, United States, United Kingdom",
          "Germany, Canada, United States",
          "Denmark, United Kingdom, South Africa, Sweden, Belgium",
          "Serbia, South Korea, Slovenia",
          "United Kingdom, Spain, Belgium",
          "South Africa, United States, Japan"
         ],
         "marker": {
          "color": "#636efa",
          "size": [
           2818,
           972,
           831,
           419,
           245,
           199,
           181,
           145,
           124,
           110,
           106,
           105,
           95,
           87,
           81,
           79,
           77,
           75,
           75,
           73,
           67,
           66,
           61,
           56,
           53,
           47,
           45,
           45,
           35,
           30,
           27,
           24,
           23,
           22,
           19,
           18,
           17,
           16,
           16,
           16,
           15,
           15,
           14,
           14,
           14,
           14,
           13,
           13,
           13,
           13,
           13,
           13,
           12,
           12,
           11,
           11,
           10,
           10,
           10,
           9,
           9,
           8,
           8,
           8,
           8,
           7,
           7,
           6,
           6,
           6,
           6,
           5,
           5,
           5,
           5,
           5,
           5,
           5,
           5,
           5,
           4,
           4,
           4,
           4,
           4,
           4,
           4,
           4,
           4,
           4,
           4,
           4,
           4,
           4,
           4,
           4,
           4,
           3,
           3,
           3,
           3,
           3,
           3,
           3,
           3,
           3,
           3,
           3,
           3,
           3,
           3,
           3,
           3,
           3,
           3,
           3,
           3,
           3,
           3,
           3,
           3,
           3,
           2,
           2,
           2,
           2,
           2,
           2,
           2,
           2,
           2,
           2,
           2,
           2,
           2,
           2,
           2,
           2,
           2,
           2,
           2,
           2,
           2,
           2,
           2,
           2,
           2,
           2,
           2,
           2,
           2,
           2,
           2,
           2,
           2,
           2,
           2,
           2,
           2,
           2,
           2,
           2,
           2,
           2,
           2,
           2,
           2,
           2,
           2,
           2,
           2,
           2,
           2,
           2,
           2,
           2,
           2,
           2,
           2,
           2,
           2,
           2,
           2,
           2,
           2,
           2,
           1,
           1,
           1,
           1,
           1,
           1,
           1,
           1,
           1,
           1,
           1,
           1,
           1,
           1,
           1,
           1,
           1,
           1,
           1,
           1,
           1,
           1,
           1,
           1,
           1,
           1,
           1,
           1,
           1,
           1,
           1,
           1,
           1,
           1,
           1,
           1,
           1,
           1,
           1,
           1,
           1,
           1,
           1,
           1,
           1,
           1,
           1,
           1,
           1,
           1,
           1,
           1,
           1,
           1,
           1,
           1,
           1,
           1,
           1,
           1,
           1,
           1,
           1,
           1,
           1,
           1,
           1,
           1,
           1,
           1,
           1,
           1,
           1,
           1,
           1,
           1,
           1,
           1,
           1,
           1,
           1,
           1,
           1,
           1,
           1,
           1,
           1,
           1,
           1,
           1,
           1,
           1,
           1,
           1,
           1,
           1,
           1,
           1,
           1,
           1,
           1,
           1,
           1,
           1,
           1,
           1,
           1,
           1,
           1,
           1,
           1,
           1,
           1,
           1,
           1,
           1,
           1,
           1,
           1,
           1,
           1,
           1,
           1,
           1,
           1,
           1,
           1,
           1,
           1,
           1,
           1,
           1,
           1,
           1,
           1,
           1,
           1,
           1,
           1,
           1,
           1,
           1,
           1,
           1,
           1,
           1,
           1,
           1,
           1,
           1,
           1,
           1,
           1,
           1,
           1,
           1,
           1,
           1,
           1,
           1,
           1,
           1,
           1,
           1,
           1,
           1,
           1,
           1,
           1,
           1,
           1,
           1,
           1,
           1,
           1,
           1,
           1,
           1,
           1,
           1,
           1,
           1,
           1,
           1,
           1,
           1,
           1,
           1,
           1,
           1,
           1,
           1,
           1,
           1,
           1,
           1,
           1,
           1,
           1,
           1,
           1,
           1,
           1,
           1,
           1,
           1,
           1,
           1,
           1,
           1,
           1,
           1,
           1,
           1,
           1,
           1,
           1,
           1,
           1,
           1,
           1,
           1,
           1,
           1,
           1,
           1,
           1,
           1,
           1,
           1,
           1,
           1,
           1,
           1,
           1,
           1,
           1,
           1,
           1,
           1,
           1,
           1,
           1,
           1,
           1,
           1,
           1,
           1,
           1,
           1,
           1,
           1,
           1,
           1,
           1,
           1,
           1,
           1,
           1,
           1,
           1,
           1,
           1,
           1,
           1,
           1,
           1,
           1,
           1,
           1,
           1,
           1,
           1,
           1,
           1,
           1,
           1,
           1,
           1,
           1,
           1,
           1,
           1,
           1,
           1,
           1,
           1,
           1,
           1,
           1,
           1,
           1,
           1,
           1,
           1,
           1,
           1,
           1,
           1,
           1,
           1,
           1,
           1,
           1,
           1,
           1,
           1,
           1,
           1,
           1,
           1,
           1,
           1,
           1,
           1,
           1,
           1,
           1,
           1,
           1,
           1,
           1,
           1,
           1,
           1,
           1,
           1,
           1,
           1,
           1,
           1,
           1,
           1,
           1,
           1,
           1,
           1,
           1,
           1,
           1,
           1,
           1,
           1,
           1,
           1,
           1,
           1,
           1,
           1,
           1,
           1,
           1,
           1,
           1,
           1,
           1,
           1,
           1,
           1,
           1,
           1,
           1,
           1,
           1,
           1,
           1,
           1,
           1,
           1,
           1,
           1,
           1,
           1,
           1,
           1,
           1,
           1,
           1,
           1,
           1,
           1,
           1,
           1,
           1,
           1,
           1,
           1,
           1,
           1,
           1,
           1,
           1,
           1,
           1,
           1,
           1,
           1,
           1,
           1,
           1,
           1,
           1,
           1,
           1,
           1,
           1,
           1,
           1,
           1,
           1,
           1,
           1,
           1,
           1,
           1,
           1,
           1,
           1,
           1,
           1,
           1,
           1,
           1,
           1,
           1,
           1,
           1,
           1,
           1,
           1,
           1,
           1,
           1,
           1,
           1,
           1,
           1,
           1,
           1,
           1,
           1,
           1,
           1,
           1,
           1,
           1,
           1,
           1,
           1,
           1,
           1,
           1,
           1,
           1,
           1,
           1,
           1,
           1,
           1,
           1,
           1,
           1,
           1,
           1,
           1,
           1,
           1,
           1,
           1,
           1,
           1,
           1,
           1,
           1,
           1,
           1,
           1,
           1,
           1,
           1,
           1,
           1,
           1,
           1,
           1,
           1,
           1,
           1,
           1,
           1,
           1,
           1,
           1,
           1,
           1,
           1,
           1,
           1,
           1,
           1,
           1,
           1,
           1,
           1,
           1,
           1,
           1,
           1,
           1,
           1,
           1,
           1,
           1,
           1,
           1,
           1,
           1,
           1,
           1,
           1,
           1,
           1,
           1,
           1,
           1,
           1,
           1,
           1,
           1,
           1,
           1,
           1,
           1,
           1,
           1,
           1,
           1,
           1,
           1,
           1,
           1,
           1,
           1,
           1,
           1,
           1,
           1,
           1,
           1,
           1,
           1,
           1,
           1,
           1,
           1,
           1,
           1,
           1,
           1,
           1,
           1,
           1,
           1
          ],
          "sizemode": "area",
          "sizeref": 0.7827777777777778,
          "symbol": "circle"
         },
         "mode": "markers",
         "name": "",
         "showlegend": false,
         "type": "scattergeo"
        }
       ],
       "layout": {
        "geo": {
         "center": {},
         "domain": {
          "x": [
           0,
           1
          ],
          "y": [
           0,
           1
          ]
         },
         "projection": {
          "type": "natural earth"
         }
        },
        "legend": {
         "itemsizing": "constant",
         "tracegroupgap": 0
        },
        "template": {
         "data": {
          "bar": [
           {
            "error_x": {
             "color": "#2a3f5f"
            },
            "error_y": {
             "color": "#2a3f5f"
            },
            "marker": {
             "line": {
              "color": "#E5ECF6",
              "width": 0.5
             },
             "pattern": {
              "fillmode": "overlay",
              "size": 10,
              "solidity": 0.2
             }
            },
            "type": "bar"
           }
          ],
          "barpolar": [
           {
            "marker": {
             "line": {
              "color": "#E5ECF6",
              "width": 0.5
             },
             "pattern": {
              "fillmode": "overlay",
              "size": 10,
              "solidity": 0.2
             }
            },
            "type": "barpolar"
           }
          ],
          "carpet": [
           {
            "aaxis": {
             "endlinecolor": "#2a3f5f",
             "gridcolor": "white",
             "linecolor": "white",
             "minorgridcolor": "white",
             "startlinecolor": "#2a3f5f"
            },
            "baxis": {
             "endlinecolor": "#2a3f5f",
             "gridcolor": "white",
             "linecolor": "white",
             "minorgridcolor": "white",
             "startlinecolor": "#2a3f5f"
            },
            "type": "carpet"
           }
          ],
          "choropleth": [
           {
            "colorbar": {
             "outlinewidth": 0,
             "ticks": ""
            },
            "type": "choropleth"
           }
          ],
          "contour": [
           {
            "colorbar": {
             "outlinewidth": 0,
             "ticks": ""
            },
            "colorscale": [
             [
              0,
              "#0d0887"
             ],
             [
              0.1111111111111111,
              "#46039f"
             ],
             [
              0.2222222222222222,
              "#7201a8"
             ],
             [
              0.3333333333333333,
              "#9c179e"
             ],
             [
              0.4444444444444444,
              "#bd3786"
             ],
             [
              0.5555555555555556,
              "#d8576b"
             ],
             [
              0.6666666666666666,
              "#ed7953"
             ],
             [
              0.7777777777777778,
              "#fb9f3a"
             ],
             [
              0.8888888888888888,
              "#fdca26"
             ],
             [
              1,
              "#f0f921"
             ]
            ],
            "type": "contour"
           }
          ],
          "contourcarpet": [
           {
            "colorbar": {
             "outlinewidth": 0,
             "ticks": ""
            },
            "type": "contourcarpet"
           }
          ],
          "heatmap": [
           {
            "colorbar": {
             "outlinewidth": 0,
             "ticks": ""
            },
            "colorscale": [
             [
              0,
              "#0d0887"
             ],
             [
              0.1111111111111111,
              "#46039f"
             ],
             [
              0.2222222222222222,
              "#7201a8"
             ],
             [
              0.3333333333333333,
              "#9c179e"
             ],
             [
              0.4444444444444444,
              "#bd3786"
             ],
             [
              0.5555555555555556,
              "#d8576b"
             ],
             [
              0.6666666666666666,
              "#ed7953"
             ],
             [
              0.7777777777777778,
              "#fb9f3a"
             ],
             [
              0.8888888888888888,
              "#fdca26"
             ],
             [
              1,
              "#f0f921"
             ]
            ],
            "type": "heatmap"
           }
          ],
          "heatmapgl": [
           {
            "colorbar": {
             "outlinewidth": 0,
             "ticks": ""
            },
            "colorscale": [
             [
              0,
              "#0d0887"
             ],
             [
              0.1111111111111111,
              "#46039f"
             ],
             [
              0.2222222222222222,
              "#7201a8"
             ],
             [
              0.3333333333333333,
              "#9c179e"
             ],
             [
              0.4444444444444444,
              "#bd3786"
             ],
             [
              0.5555555555555556,
              "#d8576b"
             ],
             [
              0.6666666666666666,
              "#ed7953"
             ],
             [
              0.7777777777777778,
              "#fb9f3a"
             ],
             [
              0.8888888888888888,
              "#fdca26"
             ],
             [
              1,
              "#f0f921"
             ]
            ],
            "type": "heatmapgl"
           }
          ],
          "histogram": [
           {
            "marker": {
             "pattern": {
              "fillmode": "overlay",
              "size": 10,
              "solidity": 0.2
             }
            },
            "type": "histogram"
           }
          ],
          "histogram2d": [
           {
            "colorbar": {
             "outlinewidth": 0,
             "ticks": ""
            },
            "colorscale": [
             [
              0,
              "#0d0887"
             ],
             [
              0.1111111111111111,
              "#46039f"
             ],
             [
              0.2222222222222222,
              "#7201a8"
             ],
             [
              0.3333333333333333,
              "#9c179e"
             ],
             [
              0.4444444444444444,
              "#bd3786"
             ],
             [
              0.5555555555555556,
              "#d8576b"
             ],
             [
              0.6666666666666666,
              "#ed7953"
             ],
             [
              0.7777777777777778,
              "#fb9f3a"
             ],
             [
              0.8888888888888888,
              "#fdca26"
             ],
             [
              1,
              "#f0f921"
             ]
            ],
            "type": "histogram2d"
           }
          ],
          "histogram2dcontour": [
           {
            "colorbar": {
             "outlinewidth": 0,
             "ticks": ""
            },
            "colorscale": [
             [
              0,
              "#0d0887"
             ],
             [
              0.1111111111111111,
              "#46039f"
             ],
             [
              0.2222222222222222,
              "#7201a8"
             ],
             [
              0.3333333333333333,
              "#9c179e"
             ],
             [
              0.4444444444444444,
              "#bd3786"
             ],
             [
              0.5555555555555556,
              "#d8576b"
             ],
             [
              0.6666666666666666,
              "#ed7953"
             ],
             [
              0.7777777777777778,
              "#fb9f3a"
             ],
             [
              0.8888888888888888,
              "#fdca26"
             ],
             [
              1,
              "#f0f921"
             ]
            ],
            "type": "histogram2dcontour"
           }
          ],
          "mesh3d": [
           {
            "colorbar": {
             "outlinewidth": 0,
             "ticks": ""
            },
            "type": "mesh3d"
           }
          ],
          "parcoords": [
           {
            "line": {
             "colorbar": {
              "outlinewidth": 0,
              "ticks": ""
             }
            },
            "type": "parcoords"
           }
          ],
          "pie": [
           {
            "automargin": true,
            "type": "pie"
           }
          ],
          "scatter": [
           {
            "fillpattern": {
             "fillmode": "overlay",
             "size": 10,
             "solidity": 0.2
            },
            "type": "scatter"
           }
          ],
          "scatter3d": [
           {
            "line": {
             "colorbar": {
              "outlinewidth": 0,
              "ticks": ""
             }
            },
            "marker": {
             "colorbar": {
              "outlinewidth": 0,
              "ticks": ""
             }
            },
            "type": "scatter3d"
           }
          ],
          "scattercarpet": [
           {
            "marker": {
             "colorbar": {
              "outlinewidth": 0,
              "ticks": ""
             }
            },
            "type": "scattercarpet"
           }
          ],
          "scattergeo": [
           {
            "marker": {
             "colorbar": {
              "outlinewidth": 0,
              "ticks": ""
             }
            },
            "type": "scattergeo"
           }
          ],
          "scattergl": [
           {
            "marker": {
             "colorbar": {
              "outlinewidth": 0,
              "ticks": ""
             }
            },
            "type": "scattergl"
           }
          ],
          "scattermapbox": [
           {
            "marker": {
             "colorbar": {
              "outlinewidth": 0,
              "ticks": ""
             }
            },
            "type": "scattermapbox"
           }
          ],
          "scatterpolar": [
           {
            "marker": {
             "colorbar": {
              "outlinewidth": 0,
              "ticks": ""
             }
            },
            "type": "scatterpolar"
           }
          ],
          "scatterpolargl": [
           {
            "marker": {
             "colorbar": {
              "outlinewidth": 0,
              "ticks": ""
             }
            },
            "type": "scatterpolargl"
           }
          ],
          "scatterternary": [
           {
            "marker": {
             "colorbar": {
              "outlinewidth": 0,
              "ticks": ""
             }
            },
            "type": "scatterternary"
           }
          ],
          "surface": [
           {
            "colorbar": {
             "outlinewidth": 0,
             "ticks": ""
            },
            "colorscale": [
             [
              0,
              "#0d0887"
             ],
             [
              0.1111111111111111,
              "#46039f"
             ],
             [
              0.2222222222222222,
              "#7201a8"
             ],
             [
              0.3333333333333333,
              "#9c179e"
             ],
             [
              0.4444444444444444,
              "#bd3786"
             ],
             [
              0.5555555555555556,
              "#d8576b"
             ],
             [
              0.6666666666666666,
              "#ed7953"
             ],
             [
              0.7777777777777778,
              "#fb9f3a"
             ],
             [
              0.8888888888888888,
              "#fdca26"
             ],
             [
              1,
              "#f0f921"
             ]
            ],
            "type": "surface"
           }
          ],
          "table": [
           {
            "cells": {
             "fill": {
              "color": "#EBF0F8"
             },
             "line": {
              "color": "white"
             }
            },
            "header": {
             "fill": {
              "color": "#C8D4E3"
             },
             "line": {
              "color": "white"
             }
            },
            "type": "table"
           }
          ]
         },
         "layout": {
          "annotationdefaults": {
           "arrowcolor": "#2a3f5f",
           "arrowhead": 0,
           "arrowwidth": 1
          },
          "autotypenumbers": "strict",
          "coloraxis": {
           "colorbar": {
            "outlinewidth": 0,
            "ticks": ""
           }
          },
          "colorscale": {
           "diverging": [
            [
             0,
             "#8e0152"
            ],
            [
             0.1,
             "#c51b7d"
            ],
            [
             0.2,
             "#de77ae"
            ],
            [
             0.3,
             "#f1b6da"
            ],
            [
             0.4,
             "#fde0ef"
            ],
            [
             0.5,
             "#f7f7f7"
            ],
            [
             0.6,
             "#e6f5d0"
            ],
            [
             0.7,
             "#b8e186"
            ],
            [
             0.8,
             "#7fbc41"
            ],
            [
             0.9,
             "#4d9221"
            ],
            [
             1,
             "#276419"
            ]
           ],
           "sequential": [
            [
             0,
             "#0d0887"
            ],
            [
             0.1111111111111111,
             "#46039f"
            ],
            [
             0.2222222222222222,
             "#7201a8"
            ],
            [
             0.3333333333333333,
             "#9c179e"
            ],
            [
             0.4444444444444444,
             "#bd3786"
            ],
            [
             0.5555555555555556,
             "#d8576b"
            ],
            [
             0.6666666666666666,
             "#ed7953"
            ],
            [
             0.7777777777777778,
             "#fb9f3a"
            ],
            [
             0.8888888888888888,
             "#fdca26"
            ],
            [
             1,
             "#f0f921"
            ]
           ],
           "sequentialminus": [
            [
             0,
             "#0d0887"
            ],
            [
             0.1111111111111111,
             "#46039f"
            ],
            [
             0.2222222222222222,
             "#7201a8"
            ],
            [
             0.3333333333333333,
             "#9c179e"
            ],
            [
             0.4444444444444444,
             "#bd3786"
            ],
            [
             0.5555555555555556,
             "#d8576b"
            ],
            [
             0.6666666666666666,
             "#ed7953"
            ],
            [
             0.7777777777777778,
             "#fb9f3a"
            ],
            [
             0.8888888888888888,
             "#fdca26"
            ],
            [
             1,
             "#f0f921"
            ]
           ]
          },
          "colorway": [
           "#636efa",
           "#EF553B",
           "#00cc96",
           "#ab63fa",
           "#FFA15A",
           "#19d3f3",
           "#FF6692",
           "#B6E880",
           "#FF97FF",
           "#FECB52"
          ],
          "font": {
           "color": "#2a3f5f"
          },
          "geo": {
           "bgcolor": "white",
           "lakecolor": "white",
           "landcolor": "#E5ECF6",
           "showlakes": true,
           "showland": true,
           "subunitcolor": "white"
          },
          "hoverlabel": {
           "align": "left"
          },
          "hovermode": "closest",
          "mapbox": {
           "style": "light"
          },
          "paper_bgcolor": "white",
          "plot_bgcolor": "#E5ECF6",
          "polar": {
           "angularaxis": {
            "gridcolor": "white",
            "linecolor": "white",
            "ticks": ""
           },
           "bgcolor": "#E5ECF6",
           "radialaxis": {
            "gridcolor": "white",
            "linecolor": "white",
            "ticks": ""
           }
          },
          "scene": {
           "xaxis": {
            "backgroundcolor": "#E5ECF6",
            "gridcolor": "white",
            "gridwidth": 2,
            "linecolor": "white",
            "showbackground": true,
            "ticks": "",
            "zerolinecolor": "white"
           },
           "yaxis": {
            "backgroundcolor": "#E5ECF6",
            "gridcolor": "white",
            "gridwidth": 2,
            "linecolor": "white",
            "showbackground": true,
            "ticks": "",
            "zerolinecolor": "white"
           },
           "zaxis": {
            "backgroundcolor": "#E5ECF6",
            "gridcolor": "white",
            "gridwidth": 2,
            "linecolor": "white",
            "showbackground": true,
            "ticks": "",
            "zerolinecolor": "white"
           }
          },
          "shapedefaults": {
           "line": {
            "color": "#2a3f5f"
           }
          },
          "ternary": {
           "aaxis": {
            "gridcolor": "white",
            "linecolor": "white",
            "ticks": ""
           },
           "baxis": {
            "gridcolor": "white",
            "linecolor": "white",
            "ticks": ""
           },
           "bgcolor": "#E5ECF6",
           "caxis": {
            "gridcolor": "white",
            "linecolor": "white",
            "ticks": ""
           }
          },
          "title": {
           "x": 0.05
          },
          "xaxis": {
           "automargin": true,
           "gridcolor": "white",
           "linecolor": "white",
           "ticks": "",
           "title": {
            "standoff": 15
           },
           "zerolinecolor": "white",
           "zerolinewidth": 2
          },
          "yaxis": {
           "automargin": true,
           "gridcolor": "white",
           "linecolor": "white",
           "ticks": "",
           "title": {
            "standoff": 15
           },
           "zerolinecolor": "white",
           "zerolinewidth": 2
          }
         }
        },
        "title": {
         "text": "Number of Movies by Country"
        }
       }
      },
      "image/png": "[encoded data removed]",
      "text/html": [
       "<div>                            <div id=\"3248826b-8301-42fc-a06d-03cabe497a52\" class=\"plotly-graph-div\" style=\"height:525px; width:100%;\"></div>            <script type=\"text/javascript\">                require([\"plotly\"], function(Plotly) {                    window.PLOTLYENV=window.PLOTLYENV || {};                                    if (document.getElementById(\"3248826b-8301-42fc-a06d-03cabe497a52\")) {                    Plotly.newPlot(                        \"3248826b-8301-42fc-a06d-03cabe497a52\",                        [{\"geo\":\"geo\",\"hovertemplate\":\"movie_count=%{marker.size}\\u003cbr\\u003ecountry=%{location}\\u003cextra\\u003e\\u003c\\u002fextra\\u003e\",\"legendgroup\":\"\",\"locationmode\":\"country names\",\"locations\":[\"United States\",\"India\",\"unknow countries\",\"United Kingdom\",\"Japan\",\"South Korea\",\"Canada\",\"Spain\",\"France\",\"Mexico\",\"Egypt\",\"Turkey\",\"Nigeria\",\"Australia\",\"Taiwan\",\"Indonesia\",\"Brazil\",\"Philippines\",\"United Kingdom, United States\",\"United States, Canada\",\"Germany\",\"China\",\"Thailand\",\"Argentina\",\"Hong Kong\",\"United States, United Kingdom\",\"Italy\",\"Canada, United States\",\"Colombia\",\"South Africa\",\"France, Belgium\",\"Poland\",\"Singapore\",\"Malaysia\",\"Netherlands\",\"Pakistan\",\"United States, Germany\",\"United States, Japan\",\"United States, France\",\"Hong Kong, China\",\"Lebanon\",\"Russia\",\"United States, Mexico\",\"China, Hong Kong\",\"Chile\",\"United Arab Emirates\",\"Sweden\",\"Israel\",\"Denmark\",\"Mexico, United States\",\"Australia, United States\",\"Germany, United States\",\"New Zealand\",\"Japan, United States\",\"Norway\",\"United States, Australia\",\"Ireland\",\"France, United States\",\"India, United States\",\"Belgium\",\"United States, India\",\"United States, China\",\"Argentina, Spain\",\"United Kingdom, Canada, United States\",\"Saudi Arabia\",\"Vietnam\",\"United States, France, Japan\",\"United Kingdom, France\",\"South Korea, United States\",\"Romania\",\"Kuwait\",\"Iceland\",\"United States, New Zealand\",\"Spain, France\",\"India, France\",\"Italy, France\",\"United States, Czech Republic\",\"United States, Italy\",\"Austria\",\"Israel, United States\",\"Italy, United States\",\"South Africa, United States\",\"United Kingdom, France, United States\",\"United States, United Kingdom, France\",\"United Kingdom, Canada\",\"United Kingdom, United States, Spain, Germany, Greece, Canada\",\"United States, United Kingdom, Australia\",\"Poland, United States\",\"Hungary\",\"Canada, United States, United Kingdom\",\"Peru\",\"United Kingdom, Germany\",\"Mexico, Spain\",\"United States, Bulgaria\",\"United States, Spain\",\"United States, Russia\",\"Hong Kong, United States\",\"Kenya\",\"Spain, Argentina\",\"France, Egypt\",\"United Kingdom, United States, Australia\",\"Bangladesh\",\"Uruguay\",\"United States, Colombia\",\"United States, United Arab Emirates\",\"United States, South Africa\",\"United States, Hong Kong\",\"Bulgaria, United States\",\"United States, Ireland\",\"United Kingdom, Ireland\",\"China, Canada, United States\",\"France, Canada\",\"Denmark, United States\",\"Belgium, France\",\"Ghana\",\"Spain, Germany\",\"United States, Germany, Canada\",\"United Kingdom, Japan, United States\",\"United States, Sweden\",\"Sweden, United States\",\"China, United Kingdom\",\"United States, Chile\",\"India, Soviet Union\",\"Jordan\",\"Ireland, United Kingdom, United States\",\"France, United Kingdom, United States\",\"United States, South Korea, China\",\"United States, United Kingdom, Canada\",\"United States, Nigeria\",\"United States, China, Hong Kong\",\"Ukraine\",\"New Zealand, United States\",\"Colombia, Mexico, United States\",\"Canada, India\",\"United States, Greece\",\"Germany, United Kingdom\",\"Canada, Australia\",\"United States, United Kingdom, Germany\",\"United Arab Emirates, United States\",\"United States, Japan, Canada\",\"France, Japan, United States\",\"United Kingdom, India\",\"Belgium, Netherlands\",\"United Kingdom, India, United States\",\"Czech Republic, United States\",\"Norway, Iceland, United States\",\"Australia, United Arab Emirates\",\"United Kingdom, Belgium\",\"Switzerland\",\"Australia, Canada\",\"Spain, Mexico\",\"Indonesia, Singapore\",\"Hong Kong, China, United States\",\"Netherlands, Belgium\",\"India, United Kingdom\",\"United Kingdom, Germany, United States\",\"Australia, United Kingdom\",\"India, Germany\",\"United Kingdom, France, Germany, United States\",\"Spain, United Kingdom\",\"Singapore, United States\",\"Canada, South Africa\",\"United Kingdom,\",\"United States, Argentina\",\"United Kingdom, Italy\",\"Ireland, United Kingdom\",\"China, Taiwan\",\"United Kingdom, United States, France\",\"United Kingdom, Nigeria\",\"Pakistan, United States\",\"United States, Thailand\",\"Argentina, Chile\",\"Thailand, United States\",\"Serbia, United States\",\"Brazil, France\",\"Turkey, United States\",\"Egypt, France\",\"Canada, United Kingdom\",\"United States, South Korea\",\"Canada, United Kingdom, United States\",\"Lebanon, Canada, France\",\"Spain, Italy\",\"China, United States\",\"Canada, United States, France\",\"Portugal, Spain\",\"Germany, Czech Republic\",\"United Arab Emirates, Jordan\",\"United States, Ghana, Burkina Faso, United Kingdom, Germany, Ethiopia\",\"United States, India, France\",\"United States, Australia, South Africa, United Kingdom\",\"Denmark, Indonesia, Finland, Norway, United Kingdom, Israel, France, United States, Germany, Netherlands\",\"Ireland, United Kingdom, Greece, France, Netherlands\",\"France, Canada, Italy, United States, China\",\"Belgium, Ireland, Netherlands, Germany, Afghanistan\",\"India, Germany, France\",\"United Kingdom, Canada, France, United States\",\"United States, India, United Arab Emirates\",\"Spain, Canada, United States\",\"United States, United Kingdom, Morocco\",\"United Kingdom, United States, Morocco\",\"United States, Sweden, Norway\",\"United States, Italy, France, Japan\",\"United Kingdom, Australia, France, United States\",\"United Kingdom, Australia, France\",\"United States, Singapore\",\"United States, Malta, France, United Kingdom\",\"United Kingdom, Singapore\",\"United States, Ireland, United Kingdom, India\",\"United States, France, Serbia\",\"Ireland, France, Iceland, United States, Mexico, Belgium, United Kingdom, Hong Kong\",\"Philippines, Canada, United Kingdom, United States\",\"United Kingdom, Finland, Germany, United States, Australia, Japan, France, Ireland\",\"France, Algeria\",\"Senegal\",\"United Kingdom, Germany, France, United States\",\"Canada, Hungary, United States\",\"Canada, United States, Cayman Islands\",\"Hungary, United States\",\"United Kingdom, Spain, United States\",\"Portugal, United States\",\"Switzerland, United Kingdom, United States\",\"India, United Kingdom, France, Qatar\",\"United States, India, United Kingdom\",\"Lebanon, France\",\"Lebanon, United States, United Arab Emirates\",\"France, Belgium, Italy\",\"Lebanon, United Arab Emirates, France, Switzerland, Germany\",\"Canada, Belgium\",\"Ireland, Luxembourg, Belgium\",\"Spain, Thailand, United States\",\"United States, China, Colombia\",\"United States, France, Denmark\",\"Denmark, Singapore, Canada, United States\",\"Spain, France, Canada\",\"Japan, Canada, United States\",\"Canada, United States, Ireland\",\"United States, China, Canada\",\"United States, France, Canada, Belgium\",\"United Kingdom, France, United States, Belgium, Luxembourg, China, Germany\",\"United Kingdom, France, Germany, Spain\",\"United Kingdom, Kenya\",\"Namibia\",\"Turkey, South Korea\",\"Indonesia, Netherlands\",\"United States, United Kingdom, India\",\"Sweden, Czech Republic, United Kingdom, Denmark, Netherlands\",\"France, Norway, Lebanon, Belgium\",\"France, Lebanon, United Kingdom\",\"France, Lebanon\",\"Spain, Belgium, United States\",\"United States, Cambodia, Romania\",\"Luxembourg\",\"Chile, Brazil\",\"Belarus\",\"United Kingdom, Australia\",\"France, Belgium, Luxembourg, Cambodia,\",\"China, Spain, South Korea, United States\",\"Mozambique\",\"Peru, Germany, Norway\",\"United States, Canada, United Kingdom\",\"United States, United Kingdom, Canada, China\",\"United States, Philippines\",\"South Africa, Angola\",\"United States, Belgium, Canada, France\",\"France, Australia, Germany\",\"Hong Kong, Iceland, United States\",\"Australia, New Zealand, United States\",\"Germany, China, United Kingdom\",\"United Kingdom, China\",\"Canada, Nigeria\",\"Romania, United States\",\"United Kingdom, Germany, United Arab Emirates, New Zealand\",\"Zimbabwe\",\"Saudi Arabia, United Arab Emirates\",\"United States, Mexico, Spain, Malta\",\"United Arab Emirates, Jordan, Lebanon, Saudi Arabia\",\"United States, France, Canada\",\"Nigeria, United Kingdom\",\"Canada, South Korea, United States\",\"Egypt, Algeria\",\"France, Brazil, Spain, Belgium\",\"Chile, Italy\",\"Spain, France, Canada, United States\",\"Switzerland, France, Belgium, United States\",\"Indonesia, United Kingdom\",\"United Kingdom, France, Poland, Germany, United States\",\"Egypt, Saudi Arabia\",\"Uruguay, Germany\",\"Lebanon, Palestine, Denmark, Qatar\",\"Cameroon\",\"United States, China, United Kingdom\",\"United States, Brazil, Japan, Spain, India\",\"Italy, United Kingdom\",\"Turkey, India\",\"United States, Mexico, Colombia\",\"Italy, United Kingdom, France\",\"India, United Kingdom, China, Canada, Japan, South Korea, United States\",\"United Kingdom, Germany, United States, France\",\"Finland, France\",\"United Kingdom, Spain\",\"Saudi Arabia, Netherlands, Germany, Jordan, United Arab Emirates, United States\",\"Brazil, United Kingdom\",\"United Kingdom, United States, Ireland\",\"Taiwan, China\",\"Austria, Germany\",\"Netherlands, Germany, Denmark, United Kingdom\",\"United Kingdom, France, Belgium, Canada, United States\",\"United States, United Kingdom, Japan\",\"Uruguay, Argentina\",\"Puerto Rico, United States, Colombia\",\"France, Belgium, United States\",\"United Kingdom, United States, Japan\",\"Italy, Turkey\",\"Russia, United States\",\"Ireland, United Kingdom, France, Germany\",\"United Kingdom, South Africa, France\",\"Ireland, Switzerland, United Kingdom, France, United States\",\"Canada, Nigeria, United States\",\"United States, United Kingdom, New Zealand\",\"United Kingdom, France, Spain, United States\",\"Germany, France\",\"Spain, France, United States\",\"United States, United Kingdom, France, Germany, Japan\",\"Uruguay, Argentina, Germany, Spain\",\"Taiwan, Malaysia\",\"France, South Korea, Japan, United States\",\"Kenya, United States\",\"United States, Norway, Canada\",\"United Kingdom, France, Belgium, Ireland, United States\",\"Cyprus\",\"France, Malta, United States\",\"Romania, United Kingdom\",\"Romania, France, Switzerland, Germany\",\"Philippines, United States\",\"India, United Kingdom, Canada, United States\",\"United Kingdom, United States, Germany, Denmark, Belgium, Japan\",\"United States, Poland\",\"Mauritius, South Africa\",\"France, Japan\",\"Argentina, Uruguay, Serbia\",\"South Korea, Canada, United States, China\",\"Norway, Sweden\",\"Spain, Germany, Denmark, United States\",\"Netherlands, Germany, Italy, Canada\",\"Indonesia, South Korea, Singapore\",\"Czech Republic, United Kingdom, United States\",\"Canada, United States, Mexico\",\"France, United Kingdom\",\"France, United States, United Kingdom, Canada\",\"Argentina, United States, Mexico\",\"Finland, Germany, Belgium\",\"Canada, Norway\",\"Mexico, United States, Spain, Colombia\",\"France, Senegal, Belgium\",\"Mexico, Brazil\",\"Mauritius\",\"Syria, France, Lebanon, Qatar\",\"Norway, Denmark\",\"Germany, United States, France\",\"Mexico, France, Colombia\",\"Canada, United States, Denmark\",\"Lebanon, United Arab Emirates\",\"China, United States, Canada\",\"Uruguay, Guatemala\",\"Romania, Bulgaria, Hungary\",\"United Kingdom, United States, France, Italy\",\"Colombia, Peru, United Kingdom\",\"Germany, Italy\",\"Taiwan, China, France, United States\",\"Philippines, Singapore\",\"Malaysia, Singapore, Hong Kong\",\"India, Turkey\",\"Denmark, Brazil, France, Portugal, Sweden\",\"Brazil, United States\",\"United Kingdom, Hong Kong\",\"South Africa, Nigeria\",\"France, Belgium, Luxembourg, Romania, Canada, United States\",\"Singapore, Malaysia\",\"Italy, Belgium\",\"United Kingdom, Hungary, Australia\",\"United States, South Korea, Japan\",\"Ghana, United States\",\"Pakistan, United Arab Emirates\",\"Canada, Germany\",\"Canada, Brazil\",\"United Kingdom, Belgium, Sweden\",\"Chile, Argentina\",\"Denmark, Spain\",\"France, Luxembourg, Canada\",\"Uruguay, Spain, Mexico\",\"Argentina, United States\",\"Thailand, China, United States\",\"Philippines, Singapore, Indonesia\",\"Lebanon, Syria\",\"Finland, Germany\",\"United States, United Kingdom, Germany, Hungary\",\"United States, France, Italy, United Kingdom\",\"Norway, Denmark, Netherlands, Sweden\",\"United Kingdom, Japan\",\"Canada, Germany, France, United States\",\"United Kingdom, Ireland, United States\",\"Uruguay, Argentina, Spain\",\"Croatia\",\"Iceland, Sweden, Belgium\",\"Spain, Belgium\",\"India, Pakistan\",\"United Kingdom, Russia, United States\",\"Paraguay, Argentina\",\"United Kingdom, Malawi\",\"Austria, Iraq, United States\",\"United States, Taiwan\",\"United Arab Emirates, United Kingdom, India\",\"Mexico, Finland\",\"United Kingdom, Canada, United States, Cayman Islands\",\"Mexico, Argentina\",\"Spain, Portugal\",\"Russia, Poland, Serbia\",\"France, Iran, United States\",\"Germany, France, Russia\",\"Mexico, Netherlands\",\"Italy, Switzerland, France, Germany\",\"Ireland, Canada\",\"United Kingdom, Germany, Spain, United States\",\"United Kingdom, Australia, United States\",\"Australia, Germany\",\"South Korea, Czech Republic\",\"Australia, New Zealand\",\"Ireland, United States, United Kingdom\",\"France, Netherlands, Singapore\",\"Chile, Peru\",\"United States, Canada, Ireland\",\"Colombia, Mexico\",\"China, United States, Australia\",\"France, Luxembourg, United States\",\"China, United States, United Kingdom\",\"Argentina, France\",\"China, Japan\",\"United States, Brazil, South Korea, Mexico, Japan, Germany\",\"India, Germany, Austria\",\"Belgium, United Kingdom, United States\",\"United States,\",\"India, Australia\",\"United Kingdom, West Germany\",\"United States, Israel, United Kingdom, Canada\",\"Indonesia, United States\",\"Norway, Germany, Sweden\",\"Netherlands, Belgium, Germany, Jordan\",\"Philippines, Qatar\",\"United Kingdom, Spain, United States, Germany\",\"Argentina, Brazil, France, Poland, Germany, Denmark\",\"Bulgaria\",\"United Kingdom, South Africa, Australia, United States\",\"Spain, Colombia\",\"United States, Canada, Indonesia, United Kingdom, China, Singapore\",\"Saudi Arabia, Syria, Egypt, Lebanon, Kuwait\",\"Italy, United States, Argentina\",\"Cambodia\",\"Italy, Switzerland, Albania, Poland\",\"United Kingdom, Canada, United States, Germany\",\"Canada, Japan, United States\",\"Argentina, Italy\",\"Egypt, Denmark, Germany\",\"France, Israel, Germany, United States, United Kingdom\",\", France, Algeria\",\"Spain, France, United Kingdom, United States\",\"Greece, United States\",\"Turkey, France, Germany, Poland\",\"Germany, Jordan, Netherlands\",\"India, Malaysia\",\"United Arab Emirates, Romania\",\"Georgia, Germany, France\",\"India, Mexico\",\"South Korea, China, United States\",\"Canada, Germany, South Africa\",\"Soviet Union, India\",\"Georgia\",\"South Korea, China\",\"Netherlands, United States\",\"Chile, France\",\"United Kingdom, France, Belgium, United States\",\"France, Canada, China, Cambodia\",\"United Kingdom, France, United States, Belgium\",\"Argentina, Uruguay, Spain, France\",\"United Kingdom, Italy, Israel, Peru, United States\",\"United States, Colombia, Mexico\",\"United States, Denmark\",\"Cambodia, United States\",\"France, Morocco\",\"Norway, Germany\",\"France, Canada, United States, Spain\",\"Kuwait, United States\",\"Hong Kong, Canada, United States\",\"United States, Switzerland\",\"United States, Hungary\",\"Canada, Japan, Netherlands\",\"Israel, Germany, France\",\"France, South Korea, Japan\",\"United Kingdom, Jordan, Qatar, Iran\",\"Lebanon, Qatar\",\"Austria, Czech Republic\",\"West Germany\",\"Chile, Spain, Argentina, Germany\",\"Spain, Italy, Argentina\",\"South Africa, United States, Germany\",\"United States, Australia, China\",\"Spain, Switzerland\",\"Singapore, France\",\"Czech Republic, Slovakia\",\"France, United Kingdom, India\",\"South Africa, China, United States\",\"Hong Kong, China, Singapore\",\"Spain, Mexico, France\",\"United States, France, United Kingdom\",\"United Kingdom, Egypt, United States\",\"United States, Hungary, Ireland, Canada\",\"United States, Bermuda, Ecuador\",\"Norway, United States\",\"Germany, Australia, France, China\",\"United Kingdom, Ukraine, United States\",\"Belgium, France, Netherlands\",\"Chile, United States, France\",\"Ireland, South Africa\",\"United Kingdom, Germany, Canada\",\"France, Qatar\",\"France, Germany\",\"Australia, Armenia, Japan, Jordan, Mexico, Mongolia, New Zealand, Philippines, South Africa, Sweden, United States, Uruguay\",\"Australia, United Kingdom, United Arab Emirates, Canada\",\"France, United States, Mexico\",\"Sweden, Netherlands\",\"Bulgaria, United States, Spain, Canada\",\"Canada, France\",\"France, Canada, Belgium\",\"Brazil, Netherlands, United States, Colombia, Austria, Germany\",\"Canada, Luxembourg\",\"United Kingdom, France, Germany\",\"Australia, France\",\"United Kingdom, United States, France, Germany\",\"Iran, France\",\"Netherlands, Denmark, South Africa\",\"New Zealand, United Kingdom\",\"Denmark, France, Poland\",\"Brazil, France, Germany\",\"United States, Canada, France\",\"United States, India, Bangladesh\",\"Germany, Sri Lanka\",\"China, Germany, India, United States\",\"United Kingdom, Czech Republic, United States, Germany, Bahamas\",\"France, New Zealand\",\"United Kingdom, Pakistan\",\"South Korea, Japan\",\"Netherlands, Denmark, France, Germany\",\"United States, Israel, Italy, South Africa\",\"United Kingdom, Russia\",\"United States, Iceland\",\"Denmark, Sweden, Israel, United States\",\"France, Belgium, Spain\",\"India, Iran\",\"United Kingdom, Czech Republic, Germany, United States\",\"United States, Australia, Mexico\",\"Denmark, France, Belgium, Italy, Netherlands, United States, United Kingdom\",\"United States, Italy, United Kingdom, Liechtenstein\",\"South Africa, United States, New Zealand, Canada\",\"Finland, Sweden, Norway, Latvia, Germany\",\"United Kingdom, South Africa\",\"Denmark, Zimbabwe\",\"United Kingdom, Poland, United States\",\"Germany, Australia\",\"Taiwan, Hong Kong, United States, China\",\"Czech Republic, France\",\"United Kingdom, Canada, Italy\",\"Germany, France, Luxembourg, United Kingdom, United States\",\"France, Germany, Switzerland\",\"Germany, United States, Hong Kong, Singapore\",\"Spain, Cuba\",\"United Kingdom, Israel, Russia\",\"United Arab Emirates, United States, United Kingdom\",\"Spain, France, Italy\",\"United States, Indonesia\",\"Canada, Spain, France\",\"Canada, France, Italy, Morocco, United States\",\"Venezuela\",\"United States, Canada, Belgium, United Kingdom\",\"Pakistan, Norway, United States\",\"Germany, Belgium\",\"France, China, Japan, United States\",\"Spain, United Kingdom, United States\",\"Switzerland, United Kingdom, Australia\",\"Belgium, United Kingdom\",\"Italy, Brazil, Greece\",\"Slovenia, Croatia, Germany, Czech Republic, Qatar\",\"Poland,\",\"Ireland, United Kingdom, Italy, United States\",\"Ireland, United States\",\"United States, Canada, Germany\",\"Russia, United States, China\",\"United States, France, Canada, Spain\",\"United States, United Kingdom, Italy\",\"United States, United Kingdom, Denmark, Sweden\",\"United States, France, United Kingdom, Japan\",\"Italy, Germany\",\"United Kingdom, Denmark, Canada, Croatia\",\"Italy, Canada, France\",\"United States, Nicaragua\",\"United States, France, Mexico\",\"United States, Brazil\",\"Netherlands, Belgium, United Kingdom, United States\",\"United States, France, Canada, Lebanon, Qatar\",\"United Kingdom, Germany, Canada, United States\",\"Germany, United States, Canada\",\"Ireland, United States, France\",\"Canada, United States, United Kingdom, France, Luxembourg\",\"South Africa, Germany, Netherlands, France\",\"Germany, United Kingdom, United States\",\"United States, Senegal\",\"United Kingdom, United States, Dominican Republic\",\"Canada, Ireland, United States\",\"United Kingdom, France, Belgium\",\"China, South Korea, United States\",\"India, Japan\",\"United States, Spain, Germany\",\"Canada, United Kingdom, Netherlands\",\"Argentina, Chile, Peru\",\"United States, Australia, Samoa, United Kingdom\",\"South Korea, France\",\"United States, Greece, Brazil\",\"Denmark, China\",\"United Kingdom, South Korea\",\"China, India, Nepal\",\"Norway, Denmark, Sweden\",\"United Kingdom, Norway, Denmark, Germany, Sweden\",\"United States, Chile, Israel\",\"France, Belgium, China, United States\",\"New Zealand, Australia, France, United States\",\"India, Nepal\",\", South Korea\",\"Argentina, Venezuela\",\"United States, Italy, Romania, United Kingdom\",\"France, Switzerland, Spain, United States, United Arab Emirates\",\"Denmark, Germany, Belgium, United Kingdom, France, Sweden\",\"Denmark, Germany, Belgium, United Kingdom, France\",\"United States, India, South Korea, China\",\"Chile, Argentina, France, Spain, United States\",\"United States, Botswana\",\"Italy, India\",\"Switzerland, France\",\"Israel, Sweden, Germany, Netherlands\",\"United Kingdom, Poland\",\"Norway, United Kingdom, France, Ireland\",\"United States, Cambodia\",\"Canada, Spain\",\"Germany, United States, Sweden\",\"Poland, West Germany\",\"Turkey, Azerbaijan\",\"Singapore, Japan, France\",\"United States, Morocco\",\"India, Switzerland\",\"United States, Netherlands, Japan, France\",\"United States, New Zealand, Japan\",\"Portugal, France, Poland, United States\",\"Switzerland, Vatican City, Italy, Germany, France\",\"France, Germany, Czech Republic, Belgium\",\"Colombia, United States\",\"Venezuela, Colombia\",\"United Kingdom, Thailand\",\"Canada, United States, Germany\",\"China, Morocco, Hong Kong\",\"Australia, Iraq\",\"Denmark, France, United States, Sweden\",\"Brazil, India, China, United States\",\"United States, Germany, United Kingdom, Australia\",\"Italy, South Africa, West Germany, Australia, United States\",\"Guatemala\",\"United States, United Kingdom, Spain, South Korea\",\"Hong Kong, Taiwan\",\"Sweden, United Kingdom, Finland\",\"United States, United Kingdom, Canada, Japan\",\"Australia, India\",\"Australia, France, Ireland\",\"United States, Germany, Australia\",\"Ireland, Canada, United Kingdom, United States\",\"India, Canada\",\"United States, Uruguay\",\"Germany, France, United States, Canada, United Kingdom\",\"United Kingdom, United States, Canada\",\"Canada, Mexico, Germany, South Africa\",\"United States, Germany, United Kingdom\",\"Argentina, France, United States, Germany, Qatar\",\"United States, Kazakhstan\",\"Denmark, United Kingdom, Sweden\",\"United Kingdom, France, Canada, Belgium, United States\",\"France, United States, Canada\",\"Australia, United Kingdom, United States, New Zealand, Italy, France\",\"Jamaica, United States\",\"Australia, United Kingdom, Canada\",\"Czech Republic, United Kingdom, France\",\"United Kingdom, New Zealand\",\"China, Hong Kong, United States\",\"Thailand, Canada, United States\",\"Switzerland, United States\",\"Canada, France, United States\",\"Italy, France, Switzerland\",\"Spain, United States\",\"United Kingdom, China, United States, India\",\"United States, Greece, United Kingdom\",\"United Kingdom, Lithuania\",\"Austria, United States\",\"Israel, Germany, Poland, Luxembourg, Belgium, France, United States\",\"Mexico, France\",\"Israel, Germany\",\"United States, Czech Republic, United Kingdom\",\"Ireland, Canada, Luxembourg, United States, United Kingdom, Philippines, India\",\"United States, Canada, China\",\"France, Canada, United States\",\"Spain, France, Uruguay\",\"Finland, United States\",\"United States, New Zealand, United Kingdom\",\"United States, Germany, United Kingdom, Italy\",\"Finland\",\"United States, France, South Korea, Indonesia\",\"Japan, Canada\",\"Croatia, Slovenia, Serbia, Montenegro\",\"Russia, Spain\",\"Egypt, Austria, United States\",\"France, Netherlands, South Africa, Finland\",\"United States, East Germany, West Germany\",\"Canada, India, Thailand, United States, United Arab Emirates\",\"Germany, United States, United Kingdom, Canada\",\"Peru, United States, United Kingdom\",\"United States, Brazil, India, Uganda, China\",\"United Kingdom, India, Sweden\",\"United States, Canada, Japan, Panama\",\"Somalia, Kenya, Sudan, South Africa, United States\",\"United States, Germany, Mexico\",\"Canada, United States, India, United Kingdom\",\"United Kingdom, Namibia, South Africa, Zimbabwe, United States\",\"United Kingdom, Brazil, Germany\",\"United Kingdom, China, United States\",\"United Kingdom, United States, Czech Republic\",\"United Kingdom, Canada, Japan\",\"United States, Venezuela\",\"Germany, United States, Italy\",\"United Kingdom, Australia, Canada, United States\",\"New Zealand, United Kingdom, Australia\",\"Ireland, Canada, United States, United Kingdom\",\"Germany, Canada, United States\",\"Denmark, United Kingdom, South Africa, Sweden, Belgium\",\"Serbia, South Korea, Slovenia\",\"United Kingdom, Spain, Belgium\",\"South Africa, United States, Japan\"],\"marker\":{\"color\":\"#636efa\",\"size\":[2818,972,831,419,245,199,181,145,124,110,106,105,95,87,81,79,77,75,75,73,67,66,61,56,53,47,45,45,35,30,27,24,23,22,19,18,17,16,16,16,15,15,14,14,14,14,13,13,13,13,13,13,12,12,11,11,10,10,10,9,9,8,8,8,8,7,7,6,6,6,6,5,5,5,5,5,5,5,5,5,4,4,4,4,4,4,4,4,4,4,4,4,4,4,4,4,4,3,3,3,3,3,3,3,3,3,3,3,3,3,3,3,3,3,3,3,3,3,3,3,3,3,2,2,2,2,2,2,2,2,2,2,2,2,2,2,2,2,2,2,2,2,2,2,2,2,2,2,2,2,2,2,2,2,2,2,2,2,2,2,2,2,2,2,2,2,2,2,2,2,2,2,2,2,2,2,2,2,2,2,2,2,2,2,2,2,1,1,1,1,1,1,1,1,1,1,1,1,1,1,1,1,1,1,1,1,1,1,1,1,1,1,1,1,1,1,1,1,1,1,1,1,1,1,1,1,1,1,1,1,1,1,1,1,1,1,1,1,1,1,1,1,1,1,1,1,1,1,1,1,1,1,1,1,1,1,1,1,1,1,1,1,1,1,1,1,1,1,1,1,1,1,1,1,1,1,1,1,1,1,1,1,1,1,1,1,1,1,1,1,1,1,1,1,1,1,1,1,1,1,1,1,1,1,1,1,1,1,1,1,1,1,1,1,1,1,1,1,1,1,1,1,1,1,1,1,1,1,1,1,1,1,1,1,1,1,1,1,1,1,1,1,1,1,1,1,1,1,1,1,1,1,1,1,1,1,1,1,1,1,1,1,1,1,1,1,1,1,1,1,1,1,1,1,1,1,1,1,1,1,1,1,1,1,1,1,1,1,1,1,1,1,1,1,1,1,1,1,1,1,1,1,1,1,1,1,1,1,1,1,1,1,1,1,1,1,1,1,1,1,1,1,1,1,1,1,1,1,1,1,1,1,1,1,1,1,1,1,1,1,1,1,1,1,1,1,1,1,1,1,1,1,1,1,1,1,1,1,1,1,1,1,1,1,1,1,1,1,1,1,1,1,1,1,1,1,1,1,1,1,1,1,1,1,1,1,1,1,1,1,1,1,1,1,1,1,1,1,1,1,1,1,1,1,1,1,1,1,1,1,1,1,1,1,1,1,1,1,1,1,1,1,1,1,1,1,1,1,1,1,1,1,1,1,1,1,1,1,1,1,1,1,1,1,1,1,1,1,1,1,1,1,1,1,1,1,1,1,1,1,1,1,1,1,1,1,1,1,1,1,1,1,1,1,1,1,1,1,1,1,1,1,1,1,1,1,1,1,1,1,1,1,1,1,1,1,1,1,1,1,1,1,1,1,1,1,1,1,1,1,1,1,1,1,1,1,1,1,1,1,1,1,1,1,1,1,1,1,1,1,1,1,1,1,1,1,1,1,1,1,1,1,1,1,1,1,1,1,1,1,1,1,1,1,1,1,1,1,1,1,1,1,1,1,1,1,1,1,1,1,1,1,1,1,1,1,1,1,1,1,1,1,1,1,1,1,1,1,1,1,1,1,1,1,1,1,1,1,1,1,1,1,1,1,1,1,1,1,1,1,1,1,1,1,1,1,1,1,1,1,1,1,1,1,1,1,1,1,1,1,1,1,1,1,1,1,1,1,1,1,1,1,1,1,1,1,1,1,1],\"sizemode\":\"area\",\"sizeref\":0.7827777777777778,\"symbol\":\"circle\"},\"mode\":\"markers\",\"name\":\"\",\"showlegend\":false,\"type\":\"scattergeo\"}],                        {\"template\":{\"data\":{\"histogram2dcontour\":[{\"type\":\"histogram2dcontour\",\"colorbar\":{\"outlinewidth\":0,\"ticks\":\"\"},\"colorscale\":[[0.0,\"#0d0887\"],[0.1111111111111111,\"#46039f\"],[0.2222222222222222,\"#7201a8\"],[0.3333333333333333,\"#9c179e\"],[0.4444444444444444,\"#bd3786\"],[0.5555555555555556,\"#d8576b\"],[0.6666666666666666,\"#ed7953\"],[0.7777777777777778,\"#fb9f3a\"],[0.8888888888888888,\"#fdca26\"],[1.0,\"#f0f921\"]]}],\"choropleth\":[{\"type\":\"choropleth\",\"colorbar\":{\"outlinewidth\":0,\"ticks\":\"\"}}],\"histogram2d\":[{\"type\":\"histogram2d\",\"colorbar\":{\"outlinewidth\":0,\"ticks\":\"\"},\"colorscale\":[[0.0,\"#0d0887\"],[0.1111111111111111,\"#46039f\"],[0.2222222222222222,\"#7201a8\"],[0.3333333333333333,\"#9c179e\"],[0.4444444444444444,\"#bd3786\"],[0.5555555555555556,\"#d8576b\"],[0.6666666666666666,\"#ed7953\"],[0.7777777777777778,\"#fb9f3a\"],[0.8888888888888888,\"#fdca26\"],[1.0,\"#f0f921\"]]}],\"heatmap\":[{\"type\":\"heatmap\",\"colorbar\":{\"outlinewidth\":0,\"ticks\":\"\"},\"colorscale\":[[0.0,\"#0d0887\"],[0.1111111111111111,\"#46039f\"],[0.2222222222222222,\"#7201a8\"],[0.3333333333333333,\"#9c179e\"],[0.4444444444444444,\"#bd3786\"],[0.5555555555555556,\"#d8576b\"],[0.6666666666666666,\"#ed7953\"],[0.7777777777777778,\"#fb9f3a\"],[0.8888888888888888,\"#fdca26\"],[1.0,\"#f0f921\"]]}],\"heatmapgl\":[{\"type\":\"heatmapgl\",\"colorbar\":{\"outlinewidth\":0,\"ticks\":\"\"},\"colorscale\":[[0.0,\"#0d0887\"],[0.1111111111111111,\"#46039f\"],[0.2222222222222222,\"#7201a8\"],[0.3333333333333333,\"#9c179e\"],[0.4444444444444444,\"#bd3786\"],[0.5555555555555556,\"#d8576b\"],[0.6666666666666666,\"#ed7953\"],[0.7777777777777778,\"#fb9f3a\"],[0.8888888888888888,\"#fdca26\"],[1.0,\"#f0f921\"]]}],\"contourcarpet\":[{\"type\":\"contourcarpet\",\"colorbar\":{\"outlinewidth\":0,\"ticks\":\"\"}}],\"contour\":[{\"type\":\"contour\",\"colorbar\":{\"outlinewidth\":0,\"ticks\":\"\"},\"colorscale\":[[0.0,\"#0d0887\"],[0.1111111111111111,\"#46039f\"],[0.2222222222222222,\"#7201a8\"],[0.3333333333333333,\"#9c179e\"],[0.4444444444444444,\"#bd3786\"],[0.5555555555555556,\"#d8576b\"],[0.6666666666666666,\"#ed7953\"],[0.7777777777777778,\"#fb9f3a\"],[0.8888888888888888,\"#fdca26\"],[1.0,\"#f0f921\"]]}],\"surface\":[{\"type\":\"surface\",\"colorbar\":{\"outlinewidth\":0,\"ticks\":\"\"},\"colorscale\":[[0.0,\"#0d0887\"],[0.1111111111111111,\"#46039f\"],[0.2222222222222222,\"#7201a8\"],[0.3333333333333333,\"#9c179e\"],[0.4444444444444444,\"#bd3786\"],[0.5555555555555556,\"#d8576b\"],[0.6666666666666666,\"#ed7953\"],[0.7777777777777778,\"#fb9f3a\"],[0.8888888888888888,\"#fdca26\"],[1.0,\"#f0f921\"]]}],\"mesh3d\":[{\"type\":\"mesh3d\",\"colorbar\":{\"outlinewidth\":0,\"ticks\":\"\"}}],\"scatter\":[{\"fillpattern\":{\"fillmode\":\"overlay\",\"size\":10,\"solidity\":0.2},\"type\":\"scatter\"}],\"parcoords\":[{\"type\":\"parcoords\",\"line\":{\"colorbar\":{\"outlinewidth\":0,\"ticks\":\"\"}}}],\"scatterpolargl\":[{\"type\":\"scatterpolargl\",\"marker\":{\"colorbar\":{\"outlinewidth\":0,\"ticks\":\"\"}}}],\"bar\":[{\"error_x\":{\"color\":\"#2a3f5f\"},\"error_y\":{\"color\":\"#2a3f5f\"},\"marker\":{\"line\":{\"color\":\"#E5ECF6\",\"width\":0.5},\"pattern\":{\"fillmode\":\"overlay\",\"size\":10,\"solidity\":0.2}},\"type\":\"bar\"}],\"scattergeo\":[{\"type\":\"scattergeo\",\"marker\":{\"colorbar\":{\"outlinewidth\":0,\"ticks\":\"\"}}}],\"scatterpolar\":[{\"type\":\"scatterpolar\",\"marker\":{\"colorbar\":{\"outlinewidth\":0,\"ticks\":\"\"}}}],\"histogram\":[{\"marker\":{\"pattern\":{\"fillmode\":\"overlay\",\"size\":10,\"solidity\":0.2}},\"type\":\"histogram\"}],\"scattergl\":[{\"type\":\"scattergl\",\"marker\":{\"colorbar\":{\"outlinewidth\":0,\"ticks\":\"\"}}}],\"scatter3d\":[{\"type\":\"scatter3d\",\"line\":{\"colorbar\":{\"outlinewidth\":0,\"ticks\":\"\"}},\"marker\":{\"colorbar\":{\"outlinewidth\":0,\"ticks\":\"\"}}}],\"scattermapbox\":[{\"type\":\"scattermapbox\",\"marker\":{\"colorbar\":{\"outlinewidth\":0,\"ticks\":\"\"}}}],\"scatterternary\":[{\"type\":\"scatterternary\",\"marker\":{\"colorbar\":{\"outlinewidth\":0,\"ticks\":\"\"}}}],\"scattercarpet\":[{\"type\":\"scattercarpet\",\"marker\":{\"colorbar\":{\"outlinewidth\":0,\"ticks\":\"\"}}}],\"carpet\":[{\"aaxis\":{\"endlinecolor\":\"#2a3f5f\",\"gridcolor\":\"white\",\"linecolor\":\"white\",\"minorgridcolor\":\"white\",\"startlinecolor\":\"#2a3f5f\"},\"baxis\":{\"endlinecolor\":\"#2a3f5f\",\"gridcolor\":\"white\",\"linecolor\":\"white\",\"minorgridcolor\":\"white\",\"startlinecolor\":\"#2a3f5f\"},\"type\":\"carpet\"}],\"table\":[{\"cells\":{\"fill\":{\"color\":\"#EBF0F8\"},\"line\":{\"color\":\"white\"}},\"header\":{\"fill\":{\"color\":\"#C8D4E3\"},\"line\":{\"color\":\"white\"}},\"type\":\"table\"}],\"barpolar\":[{\"marker\":{\"line\":{\"color\":\"#E5ECF6\",\"width\":0.5},\"pattern\":{\"fillmode\":\"overlay\",\"size\":10,\"solidity\":0.2}},\"type\":\"barpolar\"}],\"pie\":[{\"automargin\":true,\"type\":\"pie\"}]},\"layout\":{\"autotypenumbers\":\"strict\",\"colorway\":[\"#636efa\",\"#EF553B\",\"#00cc96\",\"#ab63fa\",\"#FFA15A\",\"#19d3f3\",\"#FF6692\",\"#B6E880\",\"#FF97FF\",\"#FECB52\"],\"font\":{\"color\":\"#2a3f5f\"},\"hovermode\":\"closest\",\"hoverlabel\":{\"align\":\"left\"},\"paper_bgcolor\":\"white\",\"plot_bgcolor\":\"#E5ECF6\",\"polar\":{\"bgcolor\":\"#E5ECF6\",\"angularaxis\":{\"gridcolor\":\"white\",\"linecolor\":\"white\",\"ticks\":\"\"},\"radialaxis\":{\"gridcolor\":\"white\",\"linecolor\":\"white\",\"ticks\":\"\"}},\"ternary\":{\"bgcolor\":\"#E5ECF6\",\"aaxis\":{\"gridcolor\":\"white\",\"linecolor\":\"white\",\"ticks\":\"\"},\"baxis\":{\"gridcolor\":\"white\",\"linecolor\":\"white\",\"ticks\":\"\"},\"caxis\":{\"gridcolor\":\"white\",\"linecolor\":\"white\",\"ticks\":\"\"}},\"coloraxis\":{\"colorbar\":{\"outlinewidth\":0,\"ticks\":\"\"}},\"colorscale\":{\"sequential\":[[0.0,\"#0d0887\"],[0.1111111111111111,\"#46039f\"],[0.2222222222222222,\"#7201a8\"],[0.3333333333333333,\"#9c179e\"],[0.4444444444444444,\"#bd3786\"],[0.5555555555555556,\"#d8576b\"],[0.6666666666666666,\"#ed7953\"],[0.7777777777777778,\"#fb9f3a\"],[0.8888888888888888,\"#fdca26\"],[1.0,\"#f0f921\"]],\"sequentialminus\":[[0.0,\"#0d0887\"],[0.1111111111111111,\"#46039f\"],[0.2222222222222222,\"#7201a8\"],[0.3333333333333333,\"#9c179e\"],[0.4444444444444444,\"#bd3786\"],[0.5555555555555556,\"#d8576b\"],[0.6666666666666666,\"#ed7953\"],[0.7777777777777778,\"#fb9f3a\"],[0.8888888888888888,\"#fdca26\"],[1.0,\"#f0f921\"]],\"diverging\":[[0,\"#8e0152\"],[0.1,\"#c51b7d\"],[0.2,\"#de77ae\"],[0.3,\"#f1b6da\"],[0.4,\"#fde0ef\"],[0.5,\"#f7f7f7\"],[0.6,\"#e6f5d0\"],[0.7,\"#b8e186\"],[0.8,\"#7fbc41\"],[0.9,\"#4d9221\"],[1,\"#276419\"]]},\"xaxis\":{\"gridcolor\":\"white\",\"linecolor\":\"white\",\"ticks\":\"\",\"title\":{\"standoff\":15},\"zerolinecolor\":\"white\",\"automargin\":true,\"zerolinewidth\":2},\"yaxis\":{\"gridcolor\":\"white\",\"linecolor\":\"white\",\"ticks\":\"\",\"title\":{\"standoff\":15},\"zerolinecolor\":\"white\",\"automargin\":true,\"zerolinewidth\":2},\"scene\":{\"xaxis\":{\"backgroundcolor\":\"#E5ECF6\",\"gridcolor\":\"white\",\"linecolor\":\"white\",\"showbackground\":true,\"ticks\":\"\",\"zerolinecolor\":\"white\",\"gridwidth\":2},\"yaxis\":{\"backgroundcolor\":\"#E5ECF6\",\"gridcolor\":\"white\",\"linecolor\":\"white\",\"showbackground\":true,\"ticks\":\"\",\"zerolinecolor\":\"white\",\"gridwidth\":2},\"zaxis\":{\"backgroundcolor\":\"#E5ECF6\",\"gridcolor\":\"white\",\"linecolor\":\"white\",\"showbackground\":true,\"ticks\":\"\",\"zerolinecolor\":\"white\",\"gridwidth\":2}},\"shapedefaults\":{\"line\":{\"color\":\"#2a3f5f\"}},\"annotationdefaults\":{\"arrowcolor\":\"#2a3f5f\",\"arrowhead\":0,\"arrowwidth\":1},\"geo\":{\"bgcolor\":\"white\",\"landcolor\":\"#E5ECF6\",\"subunitcolor\":\"white\",\"showland\":true,\"showlakes\":true,\"lakecolor\":\"white\"},\"title\":{\"x\":0.05},\"mapbox\":{\"style\":\"light\"}}},\"geo\":{\"domain\":{\"x\":[0.0,1.0],\"y\":[0.0,1.0]},\"projection\":{\"type\":\"natural earth\"},\"center\":{}},\"legend\":{\"tracegroupgap\":0,\"itemsizing\":\"constant\"},\"title\":{\"text\":\"Number of Movies by Country\"}},                        {\"responsive\": true}                    ).then(function(){\n",
       "                            \n",
       "var gd = document.getElementById('3248826b-8301-42fc-a06d-03cabe497a52');\n",
       "var x = new MutationObserver(function (mutations, observer) {{\n",
       "        var display = window.getComputedStyle(gd).display;\n",
       "        if (!display || display === 'none') {{\n",
       "            console.log([gd, 'removed!']);\n",
       "            Plotly.purge(gd);\n",
       "            observer.disconnect();\n",
       "        }}\n",
       "}});\n",
       "\n",
       "// Listen for the removal of the full notebook cells\n",
       "var notebookContainer = gd.closest('#notebook-container');\n",
       "if (notebookContainer) {{\n",
       "    x.observe(notebookContainer, {childList: true});\n",
       "}}\n",
       "\n",
       "// Listen for the clearing of the current output cell\n",
       "var outputEl = gd.closest('.output');\n",
       "if (outputEl) {{\n",
       "    x.observe(outputEl, {childList: true});\n",
       "}}\n",
       "\n",
       "                        })                };                });            </script>        </div>"
      ]
     },
     "metadata": {},
     "output_type": "display_data"
    }
   ],
   "source": [
    "# Country wise movie count\n",
    "country_count = df['country'].value_counts().reset_index()\n",
    "country_count.columns = ['country', 'movie_count']\n",
    "\n",
    "# Bubble map\n",
    "fig = px.scatter_geo(country_count,\n",
    "                     locations=\"country\",\n",
    "                     locationmode='country names',  # country names directly use kar sakte ho\n",
    "                     size=\"movie_count\",\n",
    "                     projection=\"natural earth\",\n",
    "                     title=\"Number of Movies by Country\",\n",
    "                     size_max=60)\n",
    "\n",
    "fig.show()"
   ]
  }
 ],
 "metadata": {
  "kernelspec": {
   "display_name": "Python 3 (ipykernel)",
   "language": "python",
   "name": "python3"
  },
  "language_info": {
   "codemirror_mode": {
    "name": "ipython",
    "version": 3
   },
   "file_extension": ".py",
   "mimetype": "text/x-python",
   "name": "python",
   "nbconvert_exporter": "python",
   "pygments_lexer": "ipython3",
   "version": "3.13.5"
  }
 },
 "nbformat": 4,
 "nbformat_minor": 5
}
