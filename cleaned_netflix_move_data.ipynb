{
 "cells": [
  {
   "cell_type": "code",
   "execution_count": 14,
   "id": "1839d185-e831-4ee8-9bbf-9ef27b75da23",
   "metadata": {},
   "outputs": [],
   "source": [
    "import pandas as pd"
   ]
  },
  {
   "cell_type": "code",
   "execution_count": 15,
   "id": "3f0d3319-7b9d-4cb1-85c0-dffd19ad77fd",
   "metadata": {},
   "outputs": [],
   "source": [
    "df = pd.read_csv(\"netflix_titles.csv\")"
   ]
  },
  {
   "cell_type": "code",
   "execution_count": 16,
   "id": "ca214a98-48ab-4387-9ee4-b1fc867783b9",
   "metadata": {},
   "outputs": [
    {
     "name": "stdout",
     "output_type": "stream",
     "text": [
      "<class 'pandas.core.frame.DataFrame'>\n",
      "RangeIndex: 8807 entries, 0 to 8806\n",
      "Data columns (total 12 columns):\n",
      " #   Column        Non-Null Count  Dtype \n",
      "---  ------        --------------  ----- \n",
      " 0   show_id       8807 non-null   object\n",
      " 1   type          8807 non-null   object\n",
      " 2   title         8807 non-null   object\n",
      " 3   director      6173 non-null   object\n",
      " 4   cast          7982 non-null   object\n",
      " 5   country       7976 non-null   object\n",
      " 6   date_added    8797 non-null   object\n",
      " 7   release_year  8807 non-null   int64 \n",
      " 8   rating        8803 non-null   object\n",
      " 9   duration      8804 non-null   object\n",
      " 10  listed_in     8807 non-null   object\n",
      " 11  description   8807 non-null   object\n",
      "dtypes: int64(1), object(11)\n",
      "memory usage: 825.8+ KB\n",
      "None\n"
     ]
    }
   ],
   "source": [
    "print(df.info())"
   ]
  },
  {
   "cell_type": "code",
   "execution_count": 17,
   "id": "198b06a9-40b8-4d37-b400-671dd62948d4",
   "metadata": {},
   "outputs": [
    {
     "name": "stdout",
     "output_type": "stream",
     "text": [
      "show_id            0\n",
      "type               0\n",
      "title              0\n",
      "director        2634\n",
      "cast             825\n",
      "country          831\n",
      "date_added        10\n",
      "release_year       0\n",
      "rating             4\n",
      "duration           3\n",
      "listed_in          0\n",
      "description        0\n",
      "dtype: int64\n"
     ]
    }
   ],
   "source": [
    "print(df.isnull().sum())"
   ]
  },
  {
   "cell_type": "code",
   "execution_count": 18,
   "id": "37bd9674-50b1-4399-bceb-a8a6d9ad3a57",
   "metadata": {},
   "outputs": [
    {
     "name": "stdout",
     "output_type": "stream",
     "text": [
      "  show_id     type                  title         director  \\\n",
      "0      s1    Movie   Dick Johnson Is Dead  Kirsten Johnson   \n",
      "1      s2  TV Show          Blood & Water              NaN   \n",
      "2      s3  TV Show              Ganglands  Julien Leclercq   \n",
      "3      s4  TV Show  Jailbirds New Orleans              NaN   \n",
      "4      s5  TV Show           Kota Factory              NaN   \n",
      "\n",
      "                                                cast        country  \\\n",
      "0                                                NaN  United States   \n",
      "1  Ama Qamata, Khosi Ngema, Gail Mabalane, Thaban...   South Africa   \n",
      "2  Sami Bouajila, Tracy Gotoas, Samuel Jouy, Nabi...            NaN   \n",
      "3                                                NaN            NaN   \n",
      "4  Mayur More, Jitendra Kumar, Ranjan Raj, Alam K...          India   \n",
      "\n",
      "           date_added  release_year rating   duration  \\\n",
      "0  September 25, 2021          2020  PG-13     90 min   \n",
      "1  September 24, 2021          2021  TV-MA  2 Seasons   \n",
      "2  September 24, 2021          2021  TV-MA   1 Season   \n",
      "3  September 24, 2021          2021  TV-MA   1 Season   \n",
      "4  September 24, 2021          2021  TV-MA  2 Seasons   \n",
      "\n",
      "                                           listed_in  \\\n",
      "0                                      Documentaries   \n",
      "1    International TV Shows, TV Dramas, TV Mysteries   \n",
      "2  Crime TV Shows, International TV Shows, TV Act...   \n",
      "3                             Docuseries, Reality TV   \n",
      "4  International TV Shows, Romantic TV Shows, TV ...   \n",
      "\n",
      "                                         description  \n",
      "0  As her father nears the end of his life, filmm...  \n",
      "1  After crossing paths at a party, a Cape Town t...  \n",
      "2  To protect his family from a powerful drug lor...  \n",
      "3  Feuds, flirtations and toilet talk go down amo...  \n",
      "4  In a city of coaching centers known to train I...  \n"
     ]
    }
   ],
   "source": [
    "print(df.head())"
   ]
  },
  {
   "cell_type": "code",
   "execution_count": 19,
   "id": "48f3b1b1-9acf-4c90-9ca1-074268710eda",
   "metadata": {},
   "outputs": [
    {
     "data": {
      "text/plain": [
       "show_id            0\n",
       "type               0\n",
       "title              0\n",
       "director        2634\n",
       "cast             825\n",
       "country          831\n",
       "date_added        10\n",
       "release_year       0\n",
       "rating             4\n",
       "duration           3\n",
       "listed_in          0\n",
       "description        0\n",
       "dtype: int64"
      ]
     },
     "execution_count": 19,
     "metadata": {},
     "output_type": "execute_result"
    }
   ],
   "source": [
    "df.isnull().sum()"
   ]
  },
  {
   "cell_type": "code",
   "execution_count": 20,
   "id": "483f0ab3-1f34-4b93-a4a6-4d3d677a6a3f",
   "metadata": {},
   "outputs": [
    {
     "name": "stderr",
     "output_type": "stream",
     "text": [
      "C:\\Users\\bhart\\AppData\\Local\\Temp\\ipykernel_29288\\1318930939.py:1: FutureWarning: A value is trying to be set on a copy of a DataFrame or Series through chained assignment using an inplace method.\n",
      "The behavior will change in pandas 3.0. This inplace method will never work because the intermediate object on which we are setting values always behaves as a copy.\n",
      "\n",
      "For example, when doing 'df[col].method(value, inplace=True)', try using 'df.method({col: value}, inplace=True)' or df[col] = df[col].method(value) instead, to perform the operation inplace on the original object.\n",
      "\n",
      "\n",
      "  df[\"director\"] . fillna(\"unknow\" , inplace=True)\n"
     ]
    }
   ],
   "source": [
    "df[\"director\"] . fillna(\"unknow\" , inplace=True)"
   ]
  },
  {
   "cell_type": "code",
   "execution_count": 21,
   "id": "11e94311-c459-498d-9098-3adc8636a3fa",
   "metadata": {},
   "outputs": [
    {
     "data": {
      "text/plain": [
       "show_id           0\n",
       "type              0\n",
       "title             0\n",
       "director          0\n",
       "cast            825\n",
       "country         831\n",
       "date_added       10\n",
       "release_year      0\n",
       "rating            4\n",
       "duration          3\n",
       "listed_in         0\n",
       "description       0\n",
       "dtype: int64"
      ]
     },
     "execution_count": 21,
     "metadata": {},
     "output_type": "execute_result"
    }
   ],
   "source": [
    "df.isnull().sum()"
   ]
  },
  {
   "cell_type": "code",
   "execution_count": 22,
   "id": "e63eed81-a7b9-40e4-a553-301808c0d74e",
   "metadata": {},
   "outputs": [
    {
     "name": "stderr",
     "output_type": "stream",
     "text": [
      "C:\\Users\\bhart\\AppData\\Local\\Temp\\ipykernel_29288\\4227377275.py:1: FutureWarning: A value is trying to be set on a copy of a DataFrame or Series through chained assignment using an inplace method.\n",
      "The behavior will change in pandas 3.0. This inplace method will never work because the intermediate object on which we are setting values always behaves as a copy.\n",
      "\n",
      "For example, when doing 'df[col].method(value, inplace=True)', try using 'df.method({col: value}, inplace=True)' or df[col] = df[col].method(value) instead, to perform the operation inplace on the original object.\n",
      "\n",
      "\n",
      "  df[\"cast\"] . fillna(\"unknow Actor / Actress\" , inplace=True)\n"
     ]
    }
   ],
   "source": [
    "df[\"cast\"] . fillna(\"unknow Actor / Actress\" , inplace=True)"
   ]
  },
  {
   "cell_type": "code",
   "execution_count": 23,
   "id": "cea030e1-dec1-4305-98d5-2899ee1dccb6",
   "metadata": {},
   "outputs": [
    {
     "name": "stderr",
     "output_type": "stream",
     "text": [
      "C:\\Users\\bhart\\AppData\\Local\\Temp\\ipykernel_29288\\3095824276.py:1: FutureWarning: A value is trying to be set on a copy of a DataFrame or Series through chained assignment using an inplace method.\n",
      "The behavior will change in pandas 3.0. This inplace method will never work because the intermediate object on which we are setting values always behaves as a copy.\n",
      "\n",
      "For example, when doing 'df[col].method(value, inplace=True)', try using 'df.method({col: value}, inplace=True)' or df[col] = df[col].method(value) instead, to perform the operation inplace on the original object.\n",
      "\n",
      "\n",
      "  df[\"country\"].fillna(\"unknow countries\", inplace=True)\n"
     ]
    }
   ],
   "source": [
    "df[\"country\"].fillna(\"unknow countries\", inplace=True)"
   ]
  },
  {
   "cell_type": "code",
   "execution_count": 24,
   "id": "ec0b5e1d-9607-44a3-9b11-254f1a7c9f10",
   "metadata": {},
   "outputs": [
    {
     "data": {
      "text/plain": [
       "show_id          0\n",
       "type             0\n",
       "title            0\n",
       "director         0\n",
       "cast             0\n",
       "country          0\n",
       "date_added      10\n",
       "release_year     0\n",
       "rating           4\n",
       "duration         3\n",
       "listed_in        0\n",
       "description      0\n",
       "dtype: int64"
      ]
     },
     "execution_count": 24,
     "metadata": {},
     "output_type": "execute_result"
    }
   ],
   "source": [
    "df.isnull().sum()"
   ]
  },
  {
   "cell_type": "code",
   "execution_count": 25,
   "id": "7f0aa6ab-d441-4862-894c-994411730253",
   "metadata": {},
   "outputs": [
    {
     "name": "stdout",
     "output_type": "stream",
     "text": [
      "[6066, 6174, 6795, 6806, 6901, 7196, 7254, 7406, 7847, 8182]\n"
     ]
    }
   ],
   "source": [
    "missing_indexes = df[df['date_added'].isnull()].index.tolist()\n",
    "print(missing_indexes)"
   ]
  },
  {
   "cell_type": "code",
   "execution_count": 26,
   "id": "754aafd0-d4be-4f5f-94c4-824243750167",
   "metadata": {},
   "outputs": [],
   "source": [
    "dates_to_fill = [\n",
    "    '2023-08-21', '2023-08-22', '2023-08-23', '2023-08-24', '2023-08-25',\n",
    "    '2023-08-26', '2023-08-27', '2023-08-28', '2023-08-29', '2023-08-30'\n",
    "]\n",
    "index_list = [6066, 6174, 6795, 6806, 6901, 7196, 7254, 7406, 7847, 8182]\n",
    "\n",
    "for i,j in zip(index_list, dates_to_fill):\n",
    "    df.at[i, \"date_added\"]= j"
   ]
  },
  {
   "cell_type": "code",
   "execution_count": 27,
   "id": "33c3ba46-cd1f-46a0-8a94-3f11dd8e6fd0",
   "metadata": {},
   "outputs": [
    {
     "data": {
      "text/plain": [
       "show_id         0\n",
       "type            0\n",
       "title           0\n",
       "director        0\n",
       "cast            0\n",
       "country         0\n",
       "date_added      0\n",
       "release_year    0\n",
       "rating          4\n",
       "duration        3\n",
       "listed_in       0\n",
       "description     0\n",
       "dtype: int64"
      ]
     },
     "execution_count": 27,
     "metadata": {},
     "output_type": "execute_result"
    }
   ],
   "source": [
    "df.isnull().sum()"
   ]
  },
  {
   "cell_type": "code",
   "execution_count": 28,
   "id": "cd13a71a-ad66-47bf-b1c6-ca6eb4b9e59e",
   "metadata": {},
   "outputs": [
    {
     "name": "stdout",
     "output_type": "stream",
     "text": [
      "[5989, 6827, 7312, 7537]\n"
     ]
    }
   ],
   "source": [
    "missing_indexes = df[df['rating'].isnull()].index.tolist()\n",
    "print(missing_indexes)"
   ]
  },
  {
   "cell_type": "code",
   "execution_count": 29,
   "id": "43b6a911-a506-4173-9cf0-421c39bd313d",
   "metadata": {},
   "outputs": [],
   "source": [
    "rating_fill = [\n",
    "    'PG', 'TV-MA', 'TV-14'\n",
    "]\n",
    "indx_list =[5989, 6827, 7312, 7537]\n",
    "\n",
    "for y, k in zip(indx_list, rating_fill):\n",
    "    df.at[y, \"rating\"] = k"
   ]
  },
  {
   "cell_type": "code",
   "execution_count": 30,
   "id": "0e68af53-786f-42b2-908c-7909b4d379d0",
   "metadata": {},
   "outputs": [
    {
     "name": "stdout",
     "output_type": "stream",
     "text": [
      "[5541, 5794, 5813]\n"
     ]
    }
   ],
   "source": [
    "missing_index = df[df['duration'].isnull()].index.tolist()\n",
    "print(missing_index)"
   ]
  },
  {
   "cell_type": "code",
   "execution_count": 31,
   "id": "b8561a0f-cb26-44ad-88ed-a5277c314566",
   "metadata": {},
   "outputs": [],
   "source": [
    "duration_fill=['120 min', '100 min', '2 h']\n",
    "inx_list=[5541, 5794, 5813]\n",
    "for i,j in zip(duration_fill,inx_list):\n",
    "    df.at[j, \"duration\"]=j"
   ]
  },
  {
   "cell_type": "code",
   "execution_count": 32,
   "id": "4e113dce-8301-4425-98fa-1a1cb8f8fb40",
   "metadata": {},
   "outputs": [
    {
     "data": {
      "text/plain": [
       "show_id         0\n",
       "type            0\n",
       "title           0\n",
       "director        0\n",
       "cast            0\n",
       "country         0\n",
       "date_added      0\n",
       "release_year    0\n",
       "rating          1\n",
       "duration        0\n",
       "listed_in       0\n",
       "description     0\n",
       "dtype: int64"
      ]
     },
     "execution_count": 32,
     "metadata": {},
     "output_type": "execute_result"
    }
   ],
   "source": [
    "df.isnull().sum()"
   ]
  },
  {
   "cell_type": "code",
   "execution_count": 33,
   "id": "c0ffd158-4e00-4b85-b2ce-979a8e054491",
   "metadata": {},
   "outputs": [
    {
     "name": "stderr",
     "output_type": "stream",
     "text": [
      "C:\\Users\\bhart\\AppData\\Local\\Temp\\ipykernel_29288\\3258603644.py:1: FutureWarning: A value is trying to be set on a copy of a DataFrame or Series through chained assignment using an inplace method.\n",
      "The behavior will change in pandas 3.0. This inplace method will never work because the intermediate object on which we are setting values always behaves as a copy.\n",
      "\n",
      "For example, when doing 'df[col].method(value, inplace=True)', try using 'df.method({col: value}, inplace=True)' or df[col] = df[col].method(value) instead, to perform the operation inplace on the original object.\n",
      "\n",
      "\n",
      "  df[\"rating\"].fillna(\"TV-MA\", inplace=True)\n"
     ]
    }
   ],
   "source": [
    "df[\"rating\"].fillna(\"TV-MA\", inplace=True)"
   ]
  },
  {
   "cell_type": "code",
   "execution_count": 34,
   "id": "bedaf827-68b3-4001-830e-c4b109e0a359",
   "metadata": {},
   "outputs": [
    {
     "data": {
      "text/plain": [
       "show_id         0\n",
       "type            0\n",
       "title           0\n",
       "director        0\n",
       "cast            0\n",
       "country         0\n",
       "date_added      0\n",
       "release_year    0\n",
       "rating          0\n",
       "duration        0\n",
       "listed_in       0\n",
       "description     0\n",
       "dtype: int64"
      ]
     },
     "execution_count": 34,
     "metadata": {},
     "output_type": "execute_result"
    }
   ],
   "source": [
    "df.isnull().sum()"
   ]
  },
  {
   "cell_type": "code",
   "execution_count": 36,
   "id": "a036df9b-b60a-4345-a52b-d6978a37a16d",
   "metadata": {},
   "outputs": [
    {
     "data": {
      "text/plain": [
       "show_id         0\n",
       "type            0\n",
       "title           0\n",
       "director        0\n",
       "cast            0\n",
       "country         0\n",
       "date_added      0\n",
       "release_year    0\n",
       "rating          0\n",
       "duration        0\n",
       "listed_in       0\n",
       "description     0\n",
       "dtype: int64"
      ]
     },
     "execution_count": 36,
     "metadata": {},
     "output_type": "execute_result"
    }
   ],
   "source": [
    "df.isnull().sum()"
   ]
  },
  {
   "cell_type": "code",
   "execution_count": 38,
   "id": "d20f3388-e32d-4a8c-833f-a9259c6f61de",
   "metadata": {},
   "outputs": [],
   "source": [
    "df.to_csv('cleaned_netflix_data.csv', index=False)"
   ]
  },
  {
   "cell_type": "code",
   "execution_count": 40,
   "id": "9b119c92-d85e-4442-b907-63708c44d999",
   "metadata": {},
   "outputs": [
    {
     "name": "stdout",
     "output_type": "stream",
     "text": [
      "country\n",
      "United States                    2818\n",
      "India                             972\n",
      "unknow countries                  831\n",
      "United Kingdom                    419\n",
      "Japan                             245\n",
      "South Korea                       199\n",
      "Canada                            181\n",
      "Spain                             145\n",
      "France                            124\n",
      "Mexico                            110\n",
      "Egypt                             106\n",
      "Turkey                            105\n",
      "Nigeria                            95\n",
      "Australia                          87\n",
      "Taiwan                             81\n",
      "Indonesia                          79\n",
      "Brazil                             77\n",
      "Philippines                        75\n",
      "United Kingdom, United States      75\n",
      "United States, Canada              73\n",
      "Name: title, dtype: int64\n"
     ]
    }
   ],
   "source": [
    "# Country wise shows\n",
    "country_count = df.groupby('country')['title'].count().sort_values(ascending=False)\n",
    "print(country_count.head(20))"
   ]
  },
  {
   "cell_type": "code",
   "execution_count": 41,
   "id": "428f2361-41cd-46ab-a622-f305922f9783",
   "metadata": {},
   "outputs": [
    {
     "name": "stdout",
     "output_type": "stream",
     "text": [
      "director\n",
      "unknow                    2634\n",
      "Rajiv Chilaka               19\n",
      "Raúl Campos, Jan Suter      18\n",
      "Marcus Raboy                16\n",
      "Suhas Kadav                 16\n",
      "Jay Karas                   14\n",
      "Cathy Garcia-Molina         13\n",
      "Martin Scorsese             12\n",
      "Jay Chapman                 12\n",
      "Youssef Chahine             12\n",
      "Name: title, dtype: int64\n"
     ]
    }
   ],
   "source": [
    "# Top 10 directors by number of shows\n",
    "top_directors = df.groupby('director')['title'].count().sort_values(ascending=False).head(10)\n",
    "print(top_directors)"
   ]
  }
 ],
 "metadata": {
  "kernelspec": {
   "display_name": "Python 3 (ipykernel)",
   "language": "python",
   "name": "python3"
  },
  "language_info": {
   "codemirror_mode": {
    "name": "ipython",
    "version": 3
   },
   "file_extension": ".py",
   "mimetype": "text/x-python",
   "name": "python",
   "nbconvert_exporter": "python",
   "pygments_lexer": "ipython3",
   "version": "3.13.5"
  }
 },
 "nbformat": 4,
 "nbformat_minor": 5
}
